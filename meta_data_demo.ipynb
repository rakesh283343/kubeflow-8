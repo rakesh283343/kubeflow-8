{
 "cells": [
  {
   "cell_type": "code",
   "execution_count": 69,
   "metadata": {},
   "outputs": [
    {
     "name": "stdout",
     "output_type": "stream",
     "text": [
      "Requirement already satisfied: kubeflow.metadata in ./.local/lib/python3.6/site-packages (0.3.1)\n",
      "Requirement already satisfied: retrying in /usr/local/lib/python3.6/dist-packages (from kubeflow.metadata) (1.3.3)\n",
      "Requirement already satisfied: ml-metadata==0.21.1 in ./.local/lib/python3.6/site-packages (from kubeflow.metadata) (0.21.1)\n",
      "Requirement already satisfied: tensorflow!=2.0.*,<3,>=1.15 in ./.local/lib/python3.6/site-packages (from ml-metadata==0.21.1->kubeflow.metadata) (2.3.0)\n",
      "Requirement already satisfied: protobuf<4,>=3.7 in /usr/local/lib/python3.6/dist-packages (from ml-metadata==0.21.1->kubeflow.metadata) (3.13.0)\n",
      "Requirement already satisfied: six<2,>=1.10 in ./.local/lib/python3.6/site-packages (from ml-metadata==0.21.1->kubeflow.metadata) (1.15.0)\n",
      "Requirement already satisfied: absl-py<1,>=0.7 in /usr/local/lib/python3.6/dist-packages (from ml-metadata==0.21.1->kubeflow.metadata) (0.7.1)\n",
      "Requirement already satisfied: six<2,>=1.10 in ./.local/lib/python3.6/site-packages (from ml-metadata==0.21.1->kubeflow.metadata) (1.15.0)\n",
      "Requirement already satisfied: wheel>=0.26 in /usr/lib/python3/dist-packages (from tensorflow!=2.0.*,<3,>=1.15->ml-metadata==0.21.1->kubeflow.metadata) (0.30.0)\n",
      "Requirement already satisfied: astunparse==1.6.3 in ./.local/lib/python3.6/site-packages (from tensorflow!=2.0.*,<3,>=1.15->ml-metadata==0.21.1->kubeflow.metadata) (1.6.3)\n",
      "Requirement already satisfied: grpcio>=1.8.6 in /usr/local/lib/python3.6/dist-packages (from tensorflow!=2.0.*,<3,>=1.15->ml-metadata==0.21.1->kubeflow.metadata) (1.31.0)\n",
      "Requirement already satisfied: gast==0.3.3 in ./.local/lib/python3.6/site-packages (from tensorflow!=2.0.*,<3,>=1.15->ml-metadata==0.21.1->kubeflow.metadata) (0.3.3)\n",
      "Requirement already satisfied: protobuf<4,>=3.7 in /usr/local/lib/python3.6/dist-packages (from ml-metadata==0.21.1->kubeflow.metadata) (3.13.0)\n",
      "Requirement already satisfied: scipy==1.4.1 in ./.local/lib/python3.6/site-packages (from tensorflow!=2.0.*,<3,>=1.15->ml-metadata==0.21.1->kubeflow.metadata) (1.4.1)\n",
      "Requirement already satisfied: numpy<1.19.0,>=1.16.0 in ./.local/lib/python3.6/site-packages (from tensorflow!=2.0.*,<3,>=1.15->ml-metadata==0.21.1->kubeflow.metadata) (1.18.5)\n",
      "Requirement already satisfied: termcolor>=1.1.0 in /usr/local/lib/python3.6/dist-packages (from tensorflow!=2.0.*,<3,>=1.15->ml-metadata==0.21.1->kubeflow.metadata) (1.1.0)\n",
      "Requirement already satisfied: h5py<2.11.0,>=2.10.0 in ./.local/lib/python3.6/site-packages (from tensorflow!=2.0.*,<3,>=1.15->ml-metadata==0.21.1->kubeflow.metadata) (2.10.0)\n",
      "Requirement already satisfied: keras-preprocessing<1.2,>=1.1.1 in ./.local/lib/python3.6/site-packages (from tensorflow!=2.0.*,<3,>=1.15->ml-metadata==0.21.1->kubeflow.metadata) (1.1.2)\n",
      "Requirement already satisfied: google-pasta>=0.1.8 in ./.local/lib/python3.6/site-packages (from tensorflow!=2.0.*,<3,>=1.15->ml-metadata==0.21.1->kubeflow.metadata) (0.2.0)\n",
      "Requirement already satisfied: tensorflow-estimator<2.4.0,>=2.3.0 in ./.local/lib/python3.6/site-packages (from tensorflow!=2.0.*,<3,>=1.15->ml-metadata==0.21.1->kubeflow.metadata) (2.3.0)\n",
      "Requirement already satisfied: tensorboard<3,>=2.3.0 in ./.local/lib/python3.6/site-packages (from tensorflow!=2.0.*,<3,>=1.15->ml-metadata==0.21.1->kubeflow.metadata) (2.3.0)\n",
      "Requirement already satisfied: wrapt>=1.11.1 in ./.local/lib/python3.6/site-packages (from tensorflow!=2.0.*,<3,>=1.15->ml-metadata==0.21.1->kubeflow.metadata) (1.12.1)\n",
      "Requirement already satisfied: absl-py<1,>=0.7 in /usr/local/lib/python3.6/dist-packages (from ml-metadata==0.21.1->kubeflow.metadata) (0.7.1)\n",
      "Requirement already satisfied: opt-einsum>=2.3.2 in ./.local/lib/python3.6/site-packages (from tensorflow!=2.0.*,<3,>=1.15->ml-metadata==0.21.1->kubeflow.metadata) (3.3.0)\n",
      "Requirement already satisfied: six<2,>=1.10 in ./.local/lib/python3.6/site-packages (from ml-metadata==0.21.1->kubeflow.metadata) (1.15.0)\n",
      "Requirement already satisfied: wheel>=0.26 in /usr/lib/python3/dist-packages (from tensorflow!=2.0.*,<3,>=1.15->ml-metadata==0.21.1->kubeflow.metadata) (0.30.0)\n",
      "Requirement already satisfied: six<2,>=1.10 in ./.local/lib/python3.6/site-packages (from ml-metadata==0.21.1->kubeflow.metadata) (1.15.0)\n",
      "Requirement already satisfied: numpy<1.19.0,>=1.16.0 in ./.local/lib/python3.6/site-packages (from tensorflow!=2.0.*,<3,>=1.15->ml-metadata==0.21.1->kubeflow.metadata) (1.18.5)\n",
      "Requirement already satisfied: six<2,>=1.10 in ./.local/lib/python3.6/site-packages (from ml-metadata==0.21.1->kubeflow.metadata) (1.15.0)\n",
      "Requirement already satisfied: numpy<1.19.0,>=1.16.0 in ./.local/lib/python3.6/site-packages (from tensorflow!=2.0.*,<3,>=1.15->ml-metadata==0.21.1->kubeflow.metadata) (1.18.5)\n",
      "Requirement already satisfied: grpcio>=1.8.6 in /usr/local/lib/python3.6/dist-packages (from tensorflow!=2.0.*,<3,>=1.15->ml-metadata==0.21.1->kubeflow.metadata) (1.31.0)\n",
      "Requirement already satisfied: numpy<1.19.0,>=1.16.0 in ./.local/lib/python3.6/site-packages (from tensorflow!=2.0.*,<3,>=1.15->ml-metadata==0.21.1->kubeflow.metadata) (1.18.5)\n",
      "Requirement already satisfied: tensorboard-plugin-wit>=1.6.0 in ./.local/lib/python3.6/site-packages (from tensorboard<3,>=2.3.0->tensorflow!=2.0.*,<3,>=1.15->ml-metadata==0.21.1->kubeflow.metadata) (1.7.0)\n",
      "Requirement already satisfied: google-auth-oauthlib<0.5,>=0.4.1 in ./.local/lib/python3.6/site-packages (from tensorboard<3,>=2.3.0->tensorflow!=2.0.*,<3,>=1.15->ml-metadata==0.21.1->kubeflow.metadata) (0.4.1)\n",
      "Requirement already satisfied: requests<3,>=2.21.0 in /usr/local/lib/python3.6/dist-packages (from tensorboard<3,>=2.3.0->tensorflow!=2.0.*,<3,>=1.15->ml-metadata==0.21.1->kubeflow.metadata) (2.22.0)\n",
      "Requirement already satisfied: six<2,>=1.10 in ./.local/lib/python3.6/site-packages (from ml-metadata==0.21.1->kubeflow.metadata) (1.15.0)\n",
      "Requirement already satisfied: protobuf<4,>=3.7 in /usr/local/lib/python3.6/dist-packages (from ml-metadata==0.21.1->kubeflow.metadata) (3.13.0)\n",
      "Requirement already satisfied: markdown>=2.6.8 in /usr/local/lib/python3.6/dist-packages (from tensorboard<3,>=2.3.0->tensorflow!=2.0.*,<3,>=1.15->ml-metadata==0.21.1->kubeflow.metadata) (3.1.1)\n",
      "Requirement already satisfied: setuptools>=41.0.0 in /usr/local/lib/python3.6/dist-packages (from tensorboard<3,>=2.3.0->tensorflow!=2.0.*,<3,>=1.15->ml-metadata==0.21.1->kubeflow.metadata) (41.0.1)\n",
      "Requirement already satisfied: wheel>=0.26 in /usr/lib/python3/dist-packages (from tensorflow!=2.0.*,<3,>=1.15->ml-metadata==0.21.1->kubeflow.metadata) (0.30.0)\n",
      "Requirement already satisfied: werkzeug>=0.11.15 in /usr/local/lib/python3.6/dist-packages (from tensorboard<3,>=2.3.0->tensorflow!=2.0.*,<3,>=1.15->ml-metadata==0.21.1->kubeflow.metadata) (0.15.4)\n",
      "Requirement already satisfied: google-auth<2,>=1.6.3 in /usr/local/lib/python3.6/dist-packages (from tensorboard<3,>=2.3.0->tensorflow!=2.0.*,<3,>=1.15->ml-metadata==0.21.1->kubeflow.metadata) (1.20.1)\n",
      "Requirement already satisfied: absl-py<1,>=0.7 in /usr/local/lib/python3.6/dist-packages (from ml-metadata==0.21.1->kubeflow.metadata) (0.7.1)\n",
      "Requirement already satisfied: requests-oauthlib>=0.7.0 in /usr/local/lib/python3.6/dist-packages (from google-auth-oauthlib<0.5,>=0.4.1->tensorboard<3,>=2.3.0->tensorflow!=2.0.*,<3,>=1.15->ml-metadata==0.21.1->kubeflow.metadata) (1.3.0)\n",
      "Requirement already satisfied: google-auth<2,>=1.6.3 in /usr/local/lib/python3.6/dist-packages (from tensorboard<3,>=2.3.0->tensorflow!=2.0.*,<3,>=1.15->ml-metadata==0.21.1->kubeflow.metadata) (1.20.1)\n",
      "Requirement already satisfied: six<2,>=1.10 in ./.local/lib/python3.6/site-packages (from ml-metadata==0.21.1->kubeflow.metadata) (1.15.0)\n",
      "Requirement already satisfied: numpy<1.19.0,>=1.16.0 in ./.local/lib/python3.6/site-packages (from tensorflow!=2.0.*,<3,>=1.15->ml-metadata==0.21.1->kubeflow.metadata) (1.18.5)\n",
      "Requirement already satisfied: six<2,>=1.10 in ./.local/lib/python3.6/site-packages (from ml-metadata==0.21.1->kubeflow.metadata) (1.15.0)\n",
      "Requirement already satisfied: idna<2.9,>=2.5 in /usr/lib/python3/dist-packages (from requests<3,>=2.21.0->tensorboard<3,>=2.3.0->tensorflow!=2.0.*,<3,>=1.15->ml-metadata==0.21.1->kubeflow.metadata) (2.6)\n",
      "Requirement already satisfied: certifi>=2017.4.17 in /usr/local/lib/python3.6/dist-packages (from requests<3,>=2.21.0->tensorboard<3,>=2.3.0->tensorflow!=2.0.*,<3,>=1.15->ml-metadata==0.21.1->kubeflow.metadata) (2020.6.20)\n",
      "Requirement already satisfied: urllib3!=1.25.0,!=1.25.1,<1.26,>=1.21.1 in /usr/local/lib/python3.6/dist-packages (from requests<3,>=2.21.0->tensorboard<3,>=2.3.0->tensorflow!=2.0.*,<3,>=1.15->ml-metadata==0.21.1->kubeflow.metadata) (1.24.2)\n",
      "Requirement already satisfied: chardet<3.1.0,>=3.0.2 in /usr/local/lib/python3.6/dist-packages (from requests<3,>=2.21.0->tensorboard<3,>=2.3.0->tensorflow!=2.0.*,<3,>=1.15->ml-metadata==0.21.1->kubeflow.metadata) (3.0.4)\n",
      "Requirement already satisfied: numpy<1.19.0,>=1.16.0 in ./.local/lib/python3.6/site-packages (from tensorflow!=2.0.*,<3,>=1.15->ml-metadata==0.21.1->kubeflow.metadata) (1.18.5)\n",
      "Requirement already satisfied: requests<3,>=2.21.0 in /usr/local/lib/python3.6/dist-packages (from tensorboard<3,>=2.3.0->tensorflow!=2.0.*,<3,>=1.15->ml-metadata==0.21.1->kubeflow.metadata) (2.22.0)\n",
      "Requirement already satisfied: oauthlib>=3.0.0 in /usr/local/lib/python3.6/dist-packages (from requests-oauthlib>=0.7.0->google-auth-oauthlib<0.5,>=0.4.1->tensorboard<3,>=2.3.0->tensorflow!=2.0.*,<3,>=1.15->ml-metadata==0.21.1->kubeflow.metadata) (3.1.0)\n",
      "Requirement already satisfied: six<2,>=1.10 in ./.local/lib/python3.6/site-packages (from ml-metadata==0.21.1->kubeflow.metadata) (1.15.0)\n",
      "Requirement already satisfied: six<2,>=1.10 in ./.local/lib/python3.6/site-packages (from ml-metadata==0.21.1->kubeflow.metadata) (1.15.0)\n",
      "Requirement already satisfied: six<2,>=1.10 in ./.local/lib/python3.6/site-packages (from ml-metadata==0.21.1->kubeflow.metadata) (1.15.0)\n",
      "Requirement already satisfied: setuptools>=41.0.0 in /usr/local/lib/python3.6/dist-packages (from tensorboard<3,>=2.3.0->tensorflow!=2.0.*,<3,>=1.15->ml-metadata==0.21.1->kubeflow.metadata) (41.0.1)\n",
      "Requirement already satisfied: setuptools>=41.0.0 in /usr/local/lib/python3.6/dist-packages (from tensorboard<3,>=2.3.0->tensorflow!=2.0.*,<3,>=1.15->ml-metadata==0.21.1->kubeflow.metadata) (41.0.1)\n",
      "Requirement already satisfied: rsa<5,>=3.1.4 in /usr/local/lib/python3.6/dist-packages (from google-auth<2,>=1.6.3->tensorboard<3,>=2.3.0->tensorflow!=2.0.*,<3,>=1.15->ml-metadata==0.21.1->kubeflow.metadata) (4.6)\n",
      "Requirement already satisfied: six<2,>=1.10 in ./.local/lib/python3.6/site-packages (from ml-metadata==0.21.1->kubeflow.metadata) (1.15.0)\n",
      "Requirement already satisfied: pyasn1-modules>=0.2.1 in /usr/local/lib/python3.6/dist-packages (from google-auth<2,>=1.6.3->tensorboard<3,>=2.3.0->tensorflow!=2.0.*,<3,>=1.15->ml-metadata==0.21.1->kubeflow.metadata) (0.2.8)\n",
      "Requirement already satisfied: cachetools<5.0,>=2.0.0 in /usr/local/lib/python3.6/dist-packages (from google-auth<2,>=1.6.3->tensorboard<3,>=2.3.0->tensorflow!=2.0.*,<3,>=1.15->ml-metadata==0.21.1->kubeflow.metadata) (4.1.1)\n",
      "Requirement already satisfied: setuptools>=41.0.0 in /usr/local/lib/python3.6/dist-packages (from tensorboard<3,>=2.3.0->tensorflow!=2.0.*,<3,>=1.15->ml-metadata==0.21.1->kubeflow.metadata) (41.0.1)\n",
      "Requirement already satisfied: pyasn1<0.5.0,>=0.4.6 in /usr/local/lib/python3.6/dist-packages (from pyasn1-modules>=0.2.1->google-auth<2,>=1.6.3->tensorboard<3,>=2.3.0->tensorflow!=2.0.*,<3,>=1.15->ml-metadata==0.21.1->kubeflow.metadata) (0.4.8)\n",
      "Requirement already satisfied: pyasn1<0.5.0,>=0.4.6 in /usr/local/lib/python3.6/dist-packages (from pyasn1-modules>=0.2.1->google-auth<2,>=1.6.3->tensorboard<3,>=2.3.0->tensorflow!=2.0.*,<3,>=1.15->ml-metadata==0.21.1->kubeflow.metadata) (0.4.8)\n",
      "Requirement already satisfied: pandas in ./.local/lib/python3.6/site-packages (1.1.1)\n",
      "Requirement already satisfied: pytz>=2017.2 in /usr/local/lib/python3.6/dist-packages (from pandas) (2020.1)\n",
      "Requirement already satisfied: python-dateutil>=2.7.3 in /usr/local/lib/python3.6/dist-packages (from pandas) (2.8.0)\n",
      "Requirement already satisfied: numpy>=1.15.4 in ./.local/lib/python3.6/site-packages (from pandas) (1.18.5)\n",
      "Requirement already satisfied: six>=1.5 in ./.local/lib/python3.6/site-packages (from python-dateutil>=2.7.3->pandas) (1.15.0)\n"
     ]
    }
   ],
   "source": [
    "# To use the latest publish `kubeflow-metadata` library, you can run:\n",
    "!pip install --upgrade kubeflow.metadata --user --use-feature=2020-resolver\n",
    "# Install other packages:\n",
    "!pip install --upgrade pandas --user --use-feature=2020-resolver\n",
    "# Then restart the Notebook kernel."
   ]
  },
  {
   "cell_type": "code",
   "execution_count": 70,
   "metadata": {},
   "outputs": [
    {
     "name": "stderr",
     "output_type": "stream",
     "text": [
      "WARNING: pip is being invoked by an old script wrapper. This will fail in a future version of pip.\n",
      "Please see https://github.com/pypa/pip/issues/5599 for advice on fixing the underlying issue.\n",
      "To avoid this problem you can invoke Python with '-m pip' instead of running pip directly.\n"
     ]
    },
    {
     "name": "stdout",
     "output_type": "stream",
     "text": [
      "Requirement already satisfied: pandas in /usr/local/lib/python3.6/dist-packages (1.1.1)\n",
      "Requirement already satisfied: numpy>=1.15.4 in /usr/local/lib/python3.6/dist-packages (from pandas) (1.19.1)\n"
     ]
    },
    {
     "name": "stderr",
     "output_type": "stream",
     "text": [
      "WARNING: No metadata found in /usr/local/lib/python3.6/dist-packages\n"
     ]
    },
    {
     "name": "stdout",
     "output_type": "stream",
     "text": [
      "Requirement already satisfied: pytz>=2017.2 in /usr/local/lib/python3.6/dist-packages (from pandas) (2020.1)\n",
      "Requirement already satisfied: python-dateutil>=2.7.3 in /usr/local/lib/python3.6/dist-packages (from pandas) (2.8.0)\n",
      "Requirement already satisfied: six>=1.5 in /usr/lib/python3/dist-packages (from python-dateutil>=2.7.3->pandas) (1.11.0)\n"
     ]
    },
    {
     "name": "stderr",
     "output_type": "stream",
     "text": [
      "WARNING: pip is being invoked by an old script wrapper. This will fail in a future version of pip.\n",
      "Please see https://github.com/pypa/pip/issues/5599 for advice on fixing the underlying issue.\n",
      "To avoid this problem you can invoke Python with '-m pip' instead of running pip directly.\n"
     ]
    },
    {
     "name": "stdout",
     "output_type": "stream",
     "text": [
      "Processing ./.cache/pip/wheels/04/e9/b7/ef010eb3ef0e48343f764fbf1b2eafa6cd967fd468dc9808e5/kubeflow_metadata-0.3.1-py3-none-any.whl\n",
      "Collecting ml-metadata==0.21.1\n",
      "  Using cached ml_metadata-0.21.1-cp36-cp36m-manylinux2010_x86_64.whl (4.9 MB)\n",
      "Requirement already satisfied: retrying in /usr/local/lib/python3.6/dist-packages (from kubeflow.metadata) (1.3.3)\n",
      "Collecting tensorflow!=2.0.*,<3,>=1.15\n",
      "  Using cached tensorflow-2.3.0-cp36-cp36m-manylinux2010_x86_64.whl (320.4 MB)\n",
      "Requirement already satisfied: absl-py<1,>=0.7 in /usr/local/lib/python3.6/dist-packages (from ml-metadata==0.21.1->kubeflow.metadata) (0.7.1)\n",
      "Requirement already satisfied: six<2,>=1.10 in /usr/lib/python3/dist-packages (from ml-metadata==0.21.1->kubeflow.metadata) (1.11.0)\n",
      "Requirement already satisfied: protobuf<4,>=3.7 in /usr/local/lib/python3.6/dist-packages (from ml-metadata==0.21.1->kubeflow.metadata) (3.13.0)\n",
      "Requirement already satisfied: wheel>=0.26 in /usr/lib/python3/dist-packages (from tensorflow!=2.0.*,<3,>=1.15->ml-metadata==0.21.1->kubeflow.metadata) (0.30.0)\n",
      "Collecting keras-preprocessing<1.2,>=1.1.1\n",
      "  Using cached Keras_Preprocessing-1.1.2-py2.py3-none-any.whl (42 kB)\n",
      "Collecting gast==0.3.3\n",
      "  Using cached gast-0.3.3-py2.py3-none-any.whl (9.7 kB)\n",
      "Collecting tensorflow-estimator<2.4.0,>=2.3.0\n",
      "  Using cached tensorflow_estimator-2.3.0-py2.py3-none-any.whl (459 kB)\n",
      "Requirement already satisfied: google-pasta>=0.1.8 in /usr/local/lib/python3.6/dist-packages (from tensorflow!=2.0.*,<3,>=1.15->ml-metadata==0.21.1->kubeflow.metadata) (0.2.0)\n",
      "Collecting scipy==1.4.1\n",
      "  Using cached scipy-1.4.1-cp36-cp36m-manylinux1_x86_64.whl (26.1 MB)\n",
      "Collecting h5py<2.11.0,>=2.10.0\n",
      "  Using cached h5py-2.10.0-cp36-cp36m-manylinux1_x86_64.whl (2.9 MB)\n",
      "Requirement already satisfied: termcolor>=1.1.0 in /usr/local/lib/python3.6/dist-packages (from tensorflow!=2.0.*,<3,>=1.15->ml-metadata==0.21.1->kubeflow.metadata) (1.1.0)\n",
      "Collecting numpy<1.19.0,>=1.16.0\n",
      "  Using cached numpy-1.18.5-cp36-cp36m-manylinux1_x86_64.whl (20.1 MB)\n",
      "Requirement already satisfied: grpcio>=1.8.6 in /usr/local/lib/python3.6/dist-packages (from tensorflow!=2.0.*,<3,>=1.15->ml-metadata==0.21.1->kubeflow.metadata) (1.31.0)\n",
      "Requirement already satisfied: opt-einsum>=2.3.2 in /usr/local/lib/python3.6/dist-packages (from tensorflow!=2.0.*,<3,>=1.15->ml-metadata==0.21.1->kubeflow.metadata) (3.3.0)\n",
      "Requirement already satisfied: astunparse==1.6.3 in /usr/local/lib/python3.6/dist-packages (from tensorflow!=2.0.*,<3,>=1.15->ml-metadata==0.21.1->kubeflow.metadata) (1.6.3)\n",
      "Requirement already satisfied: wrapt>=1.11.1 in /usr/local/lib/python3.6/dist-packages (from tensorflow!=2.0.*,<3,>=1.15->ml-metadata==0.21.1->kubeflow.metadata) (1.12.1)\n",
      "Collecting tensorboard<3,>=2.3.0\n",
      "  Using cached tensorboard-2.3.0-py3-none-any.whl (6.8 MB)\n",
      "Requirement already satisfied: setuptools in /usr/local/lib/python3.6/dist-packages (from protobuf<4,>=3.7->ml-metadata==0.21.1->kubeflow.metadata) (41.0.1)\n",
      "Requirement already satisfied: google-auth<2,>=1.6.3 in /usr/local/lib/python3.6/dist-packages (from tensorboard<3,>=2.3.0->tensorflow!=2.0.*,<3,>=1.15->ml-metadata==0.21.1->kubeflow.metadata) (1.20.1)\n",
      "Requirement already satisfied: google-auth-oauthlib<0.5,>=0.4.1 in /usr/local/lib/python3.6/dist-packages (from tensorboard<3,>=2.3.0->tensorflow!=2.0.*,<3,>=1.15->ml-metadata==0.21.1->kubeflow.metadata) (0.4.1)\n",
      "Requirement already satisfied: requests<3,>=2.21.0 in /usr/local/lib/python3.6/dist-packages (from tensorboard<3,>=2.3.0->tensorflow!=2.0.*,<3,>=1.15->ml-metadata==0.21.1->kubeflow.metadata) (2.22.0)\n",
      "Requirement already satisfied: markdown>=2.6.8 in /usr/local/lib/python3.6/dist-packages (from tensorboard<3,>=2.3.0->tensorflow!=2.0.*,<3,>=1.15->ml-metadata==0.21.1->kubeflow.metadata) (3.1.1)\n",
      "Requirement already satisfied: werkzeug>=0.11.15 in /usr/local/lib/python3.6/dist-packages (from tensorboard<3,>=2.3.0->tensorflow!=2.0.*,<3,>=1.15->ml-metadata==0.21.1->kubeflow.metadata) (0.15.4)\n",
      "Requirement already satisfied: tensorboard-plugin-wit>=1.6.0 in /usr/local/lib/python3.6/dist-packages (from tensorboard<3,>=2.3.0->tensorflow!=2.0.*,<3,>=1.15->ml-metadata==0.21.1->kubeflow.metadata) (1.7.0)\n",
      "Requirement already satisfied: pyasn1-modules>=0.2.1 in /usr/local/lib/python3.6/dist-packages (from google-auth<2,>=1.6.3->tensorboard<3,>=2.3.0->tensorflow!=2.0.*,<3,>=1.15->ml-metadata==0.21.1->kubeflow.metadata) (0.2.8)\n",
      "Requirement already satisfied: cachetools<5.0,>=2.0.0 in /usr/local/lib/python3.6/dist-packages (from google-auth<2,>=1.6.3->tensorboard<3,>=2.3.0->tensorflow!=2.0.*,<3,>=1.15->ml-metadata==0.21.1->kubeflow.metadata) (4.1.1)\n",
      "Requirement already satisfied: rsa<5,>=3.1.4; python_version >= \"3.5\" in /usr/local/lib/python3.6/dist-packages (from google-auth<2,>=1.6.3->tensorboard<3,>=2.3.0->tensorflow!=2.0.*,<3,>=1.15->ml-metadata==0.21.1->kubeflow.metadata) (4.6)\n",
      "Requirement already satisfied: requests-oauthlib>=0.7.0 in /usr/local/lib/python3.6/dist-packages (from google-auth-oauthlib<0.5,>=0.4.1->tensorboard<3,>=2.3.0->tensorflow!=2.0.*,<3,>=1.15->ml-metadata==0.21.1->kubeflow.metadata) (1.3.0)\n",
      "Requirement already satisfied: certifi>=2017.4.17 in /usr/local/lib/python3.6/dist-packages (from requests<3,>=2.21.0->tensorboard<3,>=2.3.0->tensorflow!=2.0.*,<3,>=1.15->ml-metadata==0.21.1->kubeflow.metadata) (2020.6.20)\n",
      "Requirement already satisfied: chardet<3.1.0,>=3.0.2 in /usr/local/lib/python3.6/dist-packages (from requests<3,>=2.21.0->tensorboard<3,>=2.3.0->tensorflow!=2.0.*,<3,>=1.15->ml-metadata==0.21.1->kubeflow.metadata) (3.0.4)\n",
      "Requirement already satisfied: idna<2.9,>=2.5 in /usr/lib/python3/dist-packages (from requests<3,>=2.21.0->tensorboard<3,>=2.3.0->tensorflow!=2.0.*,<3,>=1.15->ml-metadata==0.21.1->kubeflow.metadata) (2.6)\n",
      "Requirement already satisfied: urllib3!=1.25.0,!=1.25.1,<1.26,>=1.21.1 in /usr/local/lib/python3.6/dist-packages (from requests<3,>=2.21.0->tensorboard<3,>=2.3.0->tensorflow!=2.0.*,<3,>=1.15->ml-metadata==0.21.1->kubeflow.metadata) (1.24.2)\n",
      "Requirement already satisfied: pyasn1<0.5.0,>=0.4.6 in /usr/local/lib/python3.6/dist-packages (from pyasn1-modules>=0.2.1->google-auth<2,>=1.6.3->tensorboard<3,>=2.3.0->tensorflow!=2.0.*,<3,>=1.15->ml-metadata==0.21.1->kubeflow.metadata) (0.4.8)\n",
      "Requirement already satisfied: oauthlib>=3.0.0 in /usr/local/lib/python3.6/dist-packages (from requests-oauthlib>=0.7.0->google-auth-oauthlib<0.5,>=0.4.1->tensorboard<3,>=2.3.0->tensorflow!=2.0.*,<3,>=1.15->ml-metadata==0.21.1->kubeflow.metadata) (3.1.0)\n",
      "Installing collected packages: numpy, keras-preprocessing, gast, tensorflow-estimator, scipy, h5py, tensorboard, tensorflow, ml-metadata, kubeflow.metadata\n",
      "  Attempting uninstall: numpy\n",
      "    Found existing installation: numpy 1.19.1\n",
      "    Can't uninstall 'numpy'. No files were found to uninstall.\n",
      "  Attempting uninstall: keras-preprocessing\n",
      "    Found existing installation: Keras-Preprocessing 1.1.0\n",
      "    Can't uninstall 'Keras-Preprocessing'. No files were found to uninstall.\n",
      "  Attempting uninstall: gast\n",
      "    Found existing installation: gast 0.2.2\n",
      "    Can't uninstall 'gast'. No files were found to uninstall.\n",
      "  Attempting uninstall: tensorflow-estimator\n",
      "    Found existing installation: tensorflow-estimator 1.13.0\n",
      "    Can't uninstall 'tensorflow-estimator'. No files were found to uninstall.\n",
      "  Attempting uninstall: scipy\n",
      "    Found existing installation: scipy 1.5.2\n",
      "    Can't uninstall 'scipy'. No files were found to uninstall.\n",
      "  Attempting uninstall: h5py\n",
      "    Found existing installation: h5py 2.9.0\n",
      "    Can't uninstall 'h5py'. No files were found to uninstall.\n",
      "  Attempting uninstall: tensorboard\n",
      "    Found existing installation: tensorboard 1.13.1\n",
      "    Can't uninstall 'tensorboard'. No files were found to uninstall.\n",
      "  Attempting uninstall: tensorflow\n",
      "    Found existing installation: tensorflow 1.13.2\n",
      "    Can't uninstall 'tensorflow'. No files were found to uninstall.\n"
     ]
    },
    {
     "name": "stderr",
     "output_type": "stream",
     "text": [
      "ERROR: After October 2020 you may experience errors when installing or updating packages. This is because pip will change the way that it resolves dependency conflicts.\n",
      "\n",
      "We recommend you use --use-feature=2020-resolver to test your packages with the new resolver before it becomes the default.\n",
      "\n",
      "tensorflow 2.3.0 requires six>=1.12.0, but you'll have six 1.11.0 which is incompatible.\n"
     ]
    },
    {
     "name": "stdout",
     "output_type": "stream",
     "text": [
      "Successfully installed gast-0.3.3 h5py-2.10.0 keras-preprocessing-1.1.2 kubeflow.metadata ml-metadata-0.21.1 numpy-1.18.5 scipy-1.4.1 tensorboard-2.3.0 tensorflow-2.3.0 tensorflow-estimator-2.3.0\n"
     ]
    }
   ],
   "source": [
    "import pip\n",
    "pip.main(['install','pandas'])\n",
    "import pandas\n",
    "\n",
    "pip.main(['install', 'kubeflow.metadata'])\n",
    "import kubeflow.metadata"
   ]
  },
  {
   "cell_type": "code",
   "execution_count": 71,
   "metadata": {},
   "outputs": [],
   "source": [
    "import pandas\n",
    "from kubeflow.metadata import metadata\n",
    "from datetime import datetime\n",
    "from uuid import uuid4"
   ]
  },
  {
   "cell_type": "code",
   "execution_count": 72,
   "metadata": {},
   "outputs": [],
   "source": [
    "METADATA_STORE_HOST = \"metadata-grpc-service.kubeflow\" # default DNS of Kubeflow Metadata gRPC serivce.\n",
    "METADATA_STORE_PORT = 8080"
   ]
  },
  {
   "cell_type": "code",
   "execution_count": 73,
   "metadata": {},
   "outputs": [
    {
     "name": "stdout",
     "output_type": "stream",
     "text": [
      "MetadataStore with gRPC connection initialized\n"
     ]
    }
   ],
   "source": [
    "ws1 = metadata.Workspace(\n",
    "    # Connect to metadata service in namespace kubeflow in k8s cluster.\n",
    "    store=metadata.Store(grpc_host=METADATA_STORE_HOST, grpc_port=METADATA_STORE_PORT),\n",
    "    name=\"workspace_1\",\n",
    "    description=\"a workspace for testing\",\n",
    "    labels={\"n1\": \"v1\"})"
   ]
  },
  {
   "cell_type": "code",
   "execution_count": 74,
   "metadata": {},
   "outputs": [],
   "source": [
    "r = metadata.Run(\n",
    "    workspace=ws1,\n",
    "    name=\"run-\" + datetime.utcnow().isoformat(\"T\") ,\n",
    "    description=\"a run in ws_1\",\n",
    ")"
   ]
  },
  {
   "cell_type": "code",
   "execution_count": 75,
   "metadata": {},
   "outputs": [
    {
     "name": "stdout",
     "output_type": "stream",
     "text": [
      "An execution was created with id 27\n"
     ]
    }
   ],
   "source": [
    "exec = metadata.Execution(\n",
    "    name = \"execution\" + datetime.utcnow().isoformat(\"T\") ,\n",
    "    workspace=ws1,\n",
    "    run=r,\n",
    "    description=\"execution example\",\n",
    ")\n",
    "print(\"An execution was created with id %s\" % exec.id)"
   ]
  },
  {
   "cell_type": "code",
   "execution_count": 76,
   "metadata": {},
   "outputs": [
    {
     "name": "stdout",
     "output_type": "stream",
     "text": [
      "Data set id is 9 with version 'data_set_version_68105a76-35be-4052-9c61-e636c17977a7'\n"
     ]
    }
   ],
   "source": [
    "date_set_version = \"data_set_version_\" + str(uuid4())\n",
    "data_set = exec.log_input(\n",
    "        metadata.DataSet(\n",
    "            description=\"an example data\",\n",
    "            name=\"mytable-dump\",\n",
    "            owner=\"owner@my-company.org\",\n",
    "            uri=\"file://path/to/dataset\",\n",
    "            version=date_set_version,\n",
    "            query=\"SELECT * FROM mytable\"))\n",
    "print(\"Data set id is {0.id} with version '{0.version}'\".format(data_set))"
   ]
  },
  {
   "cell_type": "code",
   "execution_count": 77,
   "metadata": {},
   "outputs": [
    {
     "name": "stdout",
     "output_type": "stream",
     "text": [
      "kubeflow.metadata.metadata.Model(workspace=None, name='MNIST', description='model to recognize handwritten digits', owner='someone@kubeflow.org', uri='gcs://my-bucket/mnist', version='model_version_9240870e-52ce-4c62-8659-07b82fbd5162', model_type='neural network', training_framework={'name': 'tensorflow', 'version': 'v1.0'}, hyperparameters={'learning_rate': 0.5, 'layers': [10, 3, 1], 'early_stop': True}, labels={'mylabel': 'l1'}, id=10, create_time='2020-09-04T03:42:32.469238Z', kwargs={})\n",
      "\n",
      "Model id is 10 and version is model_version_9240870e-52ce-4c62-8659-07b82fbd5162\n"
     ]
    }
   ],
   "source": [
    "model_version = \"model_version_\" + str(uuid4())\n",
    "model = exec.log_output(\n",
    "    metadata.Model(\n",
    "            name=\"MNIST\",\n",
    "            description=\"model to recognize handwritten digits\",\n",
    "            owner=\"someone@kubeflow.org\",\n",
    "            uri=\"gcs://my-bucket/mnist\",\n",
    "            model_type=\"neural network\",\n",
    "            training_framework={\n",
    "                \"name\": \"tensorflow\",\n",
    "                \"version\": \"v1.0\"\n",
    "            },\n",
    "            hyperparameters={\n",
    "                \"learning_rate\": 0.5,\n",
    "                \"layers\": [10, 3, 1],\n",
    "                \"early_stop\": True\n",
    "            },\n",
    "            version=model_version,\n",
    "            labels={\"mylabel\": \"l1\"}))\n",
    "print(model)\n",
    "print(\"\\nModel id is {0.id} and version is {0.version}\".format(model))"
   ]
  },
  {
   "cell_type": "code",
   "execution_count": 78,
   "metadata": {},
   "outputs": [
    {
     "name": "stdout",
     "output_type": "stream",
     "text": [
      "Metrics id is 11\n"
     ]
    }
   ],
   "source": [
    "metrics = exec.log_output(\n",
    "    metadata.Metrics(\n",
    "            name=\"MNIST-evaluation\",\n",
    "            description=\"validating the MNIST model to recognize handwritten digits\",\n",
    "            owner=\"someone@kubeflow.org\",\n",
    "            uri=\"gcs://my-bucket/mnist-eval.csv\",\n",
    "            data_set_id=str(data_set.id),\n",
    "            model_id=str(model.id),\n",
    "            metrics_type=metadata.Metrics.VALIDATION,\n",
    "            values={\"accuracy\": 0.95},\n",
    "            labels={\"mylabel\": \"l1\"}))\n",
    "print(\"Metrics id is %s\" % metrics.id)"
   ]
  },
  {
   "cell_type": "code",
   "execution_count": 79,
   "metadata": {},
   "outputs": [
    {
     "name": "stdout",
     "output_type": "stream",
     "text": [
      "Found the mode with id 10 and version 'model_version_9240870e-52ce-4c62-8659-07b82fbd5162'.\n"
     ]
    }
   ],
   "source": [
    "serving_application = metadata.Execution(\n",
    "    name=\"serving model\",\n",
    "    workspace=ws1,\n",
    "    description=\"an execution to represent model serving component\",\n",
    ")\n",
    "# Noticed we use model name, version, uri to uniquely identify existing model.\n",
    "served_model = metadata.Model(\n",
    "    name=\"MNIST\",\n",
    "    uri=\"gcs://my-bucket/mnist\",\n",
    "    version=model.version,\n",
    ")\n",
    "m=serving_application.log_input(served_model)\n",
    "print(\"Found the mode with id {0.id} and version '{0.version}'.\".format(m))"
   ]
  },
  {
   "cell_type": "code",
   "execution_count": 80,
   "metadata": {},
   "outputs": [
    {
     "data": {
      "text/html": [
       "<div>\n",
       "<style scoped>\n",
       "    .dataframe tbody tr th:only-of-type {\n",
       "        vertical-align: middle;\n",
       "    }\n",
       "\n",
       "    .dataframe tbody tr th {\n",
       "        vertical-align: top;\n",
       "    }\n",
       "\n",
       "    .dataframe thead th {\n",
       "        text-align: right;\n",
       "    }\n",
       "</style>\n",
       "<table border=\"1\" class=\"dataframe\">\n",
       "  <thead>\n",
       "    <tr style=\"text-align: right;\">\n",
       "      <th></th>\n",
       "      <th>id</th>\n",
       "      <th>workspace</th>\n",
       "      <th>run</th>\n",
       "      <th>version</th>\n",
       "      <th>owner</th>\n",
       "      <th>model_type</th>\n",
       "      <th>name</th>\n",
       "      <th>description</th>\n",
       "      <th>create_time</th>\n",
       "      <th>uri</th>\n",
       "      <th>training_framework</th>\n",
       "      <th>hyperparameters</th>\n",
       "      <th>labels</th>\n",
       "      <th>kwargs</th>\n",
       "    </tr>\n",
       "  </thead>\n",
       "  <tbody>\n",
       "    <tr>\n",
       "      <th>0</th>\n",
       "      <td>10</td>\n",
       "      <td>workspace_1</td>\n",
       "      <td>run-2020-09-04T03:41:34.877645</td>\n",
       "      <td>model_version_9240870e-52ce-4c62-8659-07b82fbd...</td>\n",
       "      <td>someone@kubeflow.org</td>\n",
       "      <td>neural network</td>\n",
       "      <td>MNIST</td>\n",
       "      <td>model to recognize handwritten digits</td>\n",
       "      <td>2020-09-04T03:42:32.469238Z</td>\n",
       "      <td>gcs://my-bucket/mnist</td>\n",
       "      <td>{'name': 'tensorflow', 'version': 'v1.0'}</td>\n",
       "      <td>{'learning_rate': 0.5, 'layers': [10, 3, 1], '...</td>\n",
       "      <td>{'mylabel': 'l1'}</td>\n",
       "      <td>{}</td>\n",
       "    </tr>\n",
       "  </tbody>\n",
       "</table>\n",
       "</div>"
      ],
      "text/plain": [
       "   id    workspace                             run  \\\n",
       "0  10  workspace_1  run-2020-09-04T03:41:34.877645   \n",
       "\n",
       "                                             version                 owner  \\\n",
       "0  model_version_9240870e-52ce-4c62-8659-07b82fbd...  someone@kubeflow.org   \n",
       "\n",
       "       model_type   name                            description  \\\n",
       "0  neural network  MNIST  model to recognize handwritten digits   \n",
       "\n",
       "                   create_time                    uri  \\\n",
       "0  2020-09-04T03:42:32.469238Z  gcs://my-bucket/mnist   \n",
       "\n",
       "                          training_framework  \\\n",
       "0  {'name': 'tensorflow', 'version': 'v1.0'}   \n",
       "\n",
       "                                     hyperparameters             labels kwargs  \n",
       "0  {'learning_rate': 0.5, 'layers': [10, 3, 1], '...  {'mylabel': 'l1'}     {}  "
      ]
     },
     "execution_count": 80,
     "metadata": {},
     "output_type": "execute_result"
    }
   ],
   "source": [
    "pandas.DataFrame.from_dict(ws1.list(metadata.Model.ARTIFACT_TYPE_NAME))"
   ]
  },
  {
   "cell_type": "code",
   "execution_count": 81,
   "metadata": {},
   "outputs": [
    {
     "name": "stdout",
     "output_type": "stream",
     "text": [
      "Model id is 10\n",
      "\n",
      "All executions related to the model are {27, 28}\n",
      "All artifacts related to the training event are {9, 10, 11}\n"
     ]
    }
   ],
   "source": [
    "print(\"Model id is %s\\n\" % model.id)\n",
    "    \n",
    "model_events = ws1.store.get_events_by_artifact_ids([model.id])\n",
    "\n",
    "execution_ids = set(e.execution_id for e in model_events)\n",
    "print(\"All executions related to the model are {}\".format(execution_ids))\n",
    "# assert execution_ids == set([serving_application.id, exec.id])\n",
    "\n",
    "trainer_events = ws1.store.get_events_by_execution_ids([exec.id])\n",
    "artifact_ids = set(e.artifact_id for e in trainer_events)\n",
    "print(\"All artifacts related to the training event are {}\".format(artifact_ids))# assert artifact_ids == set([model.id, metrics.id, data_set.id])"
   ]
  },
  {
   "cell_type": "code",
   "execution_count": null,
   "metadata": {},
   "outputs": [],
   "source": []
  }
 ],
 "metadata": {
  "kernelspec": {
   "display_name": "Python 3",
   "language": "python",
   "name": "python3"
  },
  "language_info": {
   "codemirror_mode": {
    "name": "ipython",
    "version": 3
   },
   "file_extension": ".py",
   "mimetype": "text/x-python",
   "name": "python",
   "nbconvert_exporter": "python",
   "pygments_lexer": "ipython3",
   "version": "3.6.8"
  }
 },
 "nbformat": 4,
 "nbformat_minor": 4
}
