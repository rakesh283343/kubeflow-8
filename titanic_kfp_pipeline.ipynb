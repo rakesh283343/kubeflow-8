{
 "cells": [
  {
   "cell_type": "code",
   "execution_count": 3,
   "metadata": {},
   "outputs": [],
   "source": [
    "#titanic_kfp_pipeline.ipynb\n",
    "#Copyright 2020 Google LLC. \n",
    "#This software is provided as-is, without warranty or representation for any use or purpose. \n",
    "#Your use of it is subject to your agreements with Google.\n",
    "#Author: whjang@google.com\n",
    "\n",
    "PROJECT_ID = 'kubeflow-test'\n",
    "IMAGE_PREFIX = 'whjang-titanic'\n",
    "PREPROC_DIR = 'preprocess'\n",
    "TRAIN_DIR = 'train'\n",
    "\n",
    "WORK_BUCKET = 'gs://kubeflow-test-280609-kubeflowpipelines-default'\n",
    "RAW_CSV_GCS_URI = WORK_BUCKET + '/rawdata/train.csv'\n",
    "PREPROC_CSV_GCS_URI = WORK_BUCKET + '/preprocdata/processed_train.csv'\n",
    "ACC_CSV_GCS_URI = WORK_BUCKET + '/latestacc/accuracy.csv'\n",
    "MODEL_PKL_GCS_URI = WORK_BUCKET + '/model/model.pkl'\n",
    "STAGE_GCS_FOLDER = WORK_BUCKET + '/stage'\n",
    "\n",
    "AIPJOB_TRAINER_GCS_PATH = WORK_BUCKET + '/train/titanic_train.tar.gz'\n",
    "AIPJOB_OUTPUT_GCS_PATH = WORK_BUCKET + '/train/output/'\n",
    "\n",
    "import os\n",
    "os.environ[\"PROJECT_ID\"] = PROJECT_ID\n",
    "os.environ[\"IMAGE_PREFIX\"] = IMAGE_PREFIX\n",
    "os.environ[\"PREPROC_DIR\"] = PREPROC_DIR\n",
    "os.environ[\"TRAIN_DIR\"] = TRAIN_DIR\n",
    "os.environ[\"WORK_BUCKET\"] = WORK_BUCKET\n",
    "os.environ[\"RAW_CSV_GCS_URI\"] = RAW_CSV_GCS_URI\n",
    "os.environ[\"PREPROC_CSV_GCS_URI\"] = PREPROC_CSV_GCS_URI\n",
    "os.environ[\"ACC_CSV_GCS_URI\"] = ACC_CSV_GCS_URI\n",
    "os.environ[\"MODEL_PKL_GCS_URI\"] = MODEL_PKL_GCS_URI\n",
    "os.environ[\"STAGE_GCS_FOLDER\"] = STAGE_GCS_FOLDER\n",
    "os.environ[\"AIPJOB_TRAINER_GCS_PATH\"] = AIPJOB_TRAINER_GCS_PATH\n",
    "os.environ[\"AIPJOB_OUTPUT_GCS_PATH\"] = AIPJOB_OUTPUT_GCS_PATH"
   ]
  },
  {
   "cell_type": "code",
   "execution_count": 38,
   "metadata": {},
   "outputs": [
    {
     "name": "stdout",
     "output_type": "stream",
     "text": [
      "Sending build context to Docker daemon  8.704kB\n",
      "Step 1/8 : FROM frolvlad/alpine-python-machinelearning\n",
      " ---> 9e141b2fee53\n",
      "Step 2/8 : RUN pip install --upgrade gcsfs\n",
      " ---> Using cache\n",
      " ---> 144dc6ed561c\n",
      "Step 3/8 : RUN pip install --upgrade argparse\n",
      " ---> Using cache\n",
      " ---> 768a977c9c9f\n",
      "Step 4/8 : ENV PYTHONUNBUFFERED 1\n",
      " ---> Using cache\n",
      " ---> 6e19eedd5829\n",
      "Step 5/8 : RUN mkdir -p /titanic/src\n",
      " ---> Using cache\n",
      " ---> 9a31dbd1a94c\n",
      "Step 6/8 : COPY . /titanic/src\n",
      " ---> 098f2f6ee783\n",
      "Step 7/8 : WORKDIR /titanic/src\n",
      " ---> Running in c7ffeaa402be\n",
      "Removing intermediate container c7ffeaa402be\n",
      " ---> 238e00d97d98\n",
      "Step 8/8 : ENTRYPOINT [\"python\", \"titanic_preprocess.py\"]\n",
      " ---> Running in 096314c4755a\n",
      "Removing intermediate container 096314c4755a\n",
      " ---> 1e8fc6a5f7b5\n",
      "Successfully built 1e8fc6a5f7b5\n",
      "Successfully tagged whjang-titanic-preprocess:latest\n",
      "The push refers to repository [docker.io/insoopark/whjang-titanic-preprocess]\n",
      "\n",
      "\u001b[1B9a5aeb69: Preparing \n",
      "\u001b[1Bec50a8b8: Preparing \n",
      "\u001b[1Bb3466d13: Preparing \n",
      "\u001b[1B8ff39333: Preparing \n",
      "\u001b[1B2d9188d2: Preparing \n",
      "\u001b[1B01e901e5: Preparing \n",
      "\u001b[1B9ef47504: Preparing \n",
      "\u001b[8B9a5aeb69: Pushed   9.728kB/3.812kBA\u001b[2K\u001b[1A\u001b[2K\u001b[2A\u001b[2K\u001b[8A\u001b[2K\u001b[8A\u001b[2K\u001b[8A\u001b[2Klatest: digest: sha256:a80fcee8c228c06d00f2d6b1ae1036414518d050e2a97e79da81476e7918ea13 size: 1998\n"
     ]
    }
   ],
   "source": [
    "!docker build -t $IMAGE_PREFIX-$PREPROC_DIR $PREPROC_DIR/.\n",
    "!docker tag $IMAGE_PREFIX-$PREPROC_DIR:latest docker.io/insoopark/$IMAGE_PREFIX-$PREPROC_DIR:latest\n",
    "!docker push docker.io/insoopark/$IMAGE_PREFIX-$PREPROC_DIR:latest"
   ]
  },
  {
   "cell_type": "code",
   "execution_count": 39,
   "metadata": {},
   "outputs": [
    {
     "name": "stdout",
     "output_type": "stream",
     "text": [
      "Preprocessing Titanic Data\n",
      "   Pclass  SibSp  Sex_female  Sex_male  Survived\n",
      "0       3      1           0         1         0\n",
      "1       1      1           1         0         1\n",
      "2       3      0           1         0         1\n",
      "3       1      1           1         0         1\n",
      "4       3      0           0         1         0\n"
     ]
    }
   ],
   "source": [
    "!docker run docker.io/insoopark/$IMAGE_PREFIX-$PREPROC_DIR:latest --raw_csv_gcs_uri $RAW_CSV_GCS_URI --preproc_csv_gcs_uri $PREPROC_CSV_GCS_URI"
   ]
  },
  {
   "cell_type": "code",
   "execution_count": null,
   "metadata": {},
   "outputs": [],
   "source": [
    "!docker build -t $IMAGE_PREFIX-$TRAIN_DIR $TRAIN_DIR/.\n",
    "!docker tag $IMAGE_PREFIX-$TRAIN_DIR:latest gcr.io/$PROJECT_ID/$IMAGE_PREFIX-$TRAIN_DIR:latest\n",
    "!docker push docker.io/insoopark/$IMAGE_PREFIX-$TRAIN_DIR:latest\n",
    "!docker run docker.io/insoopark/$IMAGE_PREFIX-$TRAIN_DIR:latest \\\n",
    "--preproc_csv_gcs_uri $PREPROC_CSV_GCS_URI \\\n",
    "--model_pkl_gcs_uri $MODEL_PKL_GCS_URI \\\n",
    "--acc_csv_gcs_uri $ACC_CSV_GCS_URI \\\n",
    "--min_acc_progress 0.000001"
   ]
  },
  {
   "cell_type": "code",
   "execution_count": null,
   "metadata": {},
   "outputs": [],
   "source": []
  }
 ],
 "metadata": {
  "environment": {
   "name": "common-cpu.m54",
   "type": "gcloud",
   "uri": "gcr.io/deeplearning-platform-release/base-cpu:m54"
  },
  "kernelspec": {
   "display_name": "Python 3",
   "language": "python",
   "name": "python3"
  },
  "language_info": {
   "codemirror_mode": {
    "name": "ipython",
    "version": 3
   },
   "file_extension": ".py",
   "mimetype": "text/x-python",
   "name": "python",
   "nbconvert_exporter": "python",
   "pygments_lexer": "ipython3",
   "version": "3.7.8"
  }
 },
 "nbformat": 4,
 "nbformat_minor": 4
}
