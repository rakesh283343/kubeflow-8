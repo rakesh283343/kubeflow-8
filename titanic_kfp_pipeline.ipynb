{
 "cells": [
  {
   "cell_type": "code",
   "execution_count": 3,
   "metadata": {},
   "outputs": [
    {
     "ename": "SyntaxError",
     "evalue": "invalid character in identifier (<ipython-input-3-55bc039f8a5d>, line 7)",
     "output_type": "error",
     "traceback": [
      "\u001b[0;36m  File \u001b[0;32m\"<ipython-input-3-55bc039f8a5d>\"\u001b[0;36m, line \u001b[0;32m7\u001b[0m\n\u001b[0;31m    PROJECT_ID = “aiplatformdemo”\u001b[0m\n\u001b[0m                                ^\u001b[0m\n\u001b[0;31mSyntaxError\u001b[0m\u001b[0;31m:\u001b[0m invalid character in identifier\n"
     ]
    }
   ],
   "source": [
    "#titanic_kfp_pipeline.ipynb\n",
    "#Copyright 2020 Google LLC. \n",
    "#This software is provided as-is, without warranty or representation for any use or purpose. \n",
    "#Your use of it is subject to your agreements with Google.\n",
    "#Author: whjang@google.com\n",
    "\n",
    "PROJECT_ID = “aiplatformdemo”\n",
    "IMAGE_PREFIX = “whjang-titanic”\n",
    "PREPROC_DIR = “preprocess”\n",
    "TRAIN_DIR = “train”\n",
    "\n",
    "WORK_BUCKET = “gs://ispark-example-bucket”\n",
    "RAW_CSV_GCS_URI = WORK_BUCKET + “/rawdata/datasets_11657_16098_train.csv”\n",
    "PREPROC_CSV_GCS_URI = WORK_BUCKET + “/preprocdata/processed_train.csv”\n",
    "ACC_CSV_GCS_URI = WORK_BUCKET + “/latestacc/accuracy.csv”\n",
    "MODEL_PKL_GCS_URI = WORK_BUCKET + “/model/model.pkl”\n",
    "STAGE_GCS_FOLDER = WORK_BUCKET + “/stage”\n",
    "\n",
    "AIPJOB_TRAINER_GCS_PATH = WORK_BUCKET + “/train/titanic_train.tar.gz”\n",
    "AIPJOB_OUTPUT_GCS_PATH = WORK_BUCKET + “/train/output/”\n",
    "\n",
    "import os\n",
    "os.environ[‘PROJECT_ID’] = PROJECT_ID\n",
    "os.environ[‘IMAGE_PREFIX’] = IMAGE_PREFIX\n",
    "os.environ[‘PREPROC_DIR’] = PREPROC_DIR\n",
    "os.environ[‘TRAIN_DIR’] = TRAIN_DIR\n",
    "os.environ[‘WORK_BUCKET’] = WORK_BUCKET\n",
    "os.environ[‘RAW_CSV_GCS_URI’] = RAW_CSV_GCS_URI\n",
    "os.environ[‘PREPROC_CSV_GCS_URI’] = PREPROC_CSV_GCS_URI\n",
    "os.environ[‘ACC_CSV_GCS_URI’] = ACC_CSV_GCS_URI\n",
    "os.environ[‘MODEL_PKL_GCS_URI’] = MODEL_PKL_GCS_URI\n",
    "os.environ[‘STAGE_GCS_FOLDER’] = STAGE_GCS_FOLDER\n",
    "os.environ[‘AIPJOB_TRAINER_GCS_PATH’] = AIPJOB_TRAINER_GCS_PATH\n",
    "os.environ[‘AIPJOB_OUTPUT_GCS_PATH’] = AIPJOB_OUTPUT_GCS_PATH\n",
    "\n",
    "!echo $PROJECT_ID\n",
    "!echo $IMAGE_PREFIX\n",
    "!echo $PREPROC_DIR\n",
    "!echo $TRAIN_DIR\n",
    "!echo $WORK_BUCKET\n",
    "!echo $RAW_CSV_GCS_URI\n",
    "!echo $PREPROC_CSV_GCS_URI\n",
    "!echo $ACC_CSV_GCS_URI\n",
    "!echo $MODEL_PKL_GCS_URI\n",
    "!echo $STAGE_GCS_FOLDER\n",
    "!echo $AIPJOB_TRAINER_GCS_PATH\n",
    "!echo $AIPJOB_OUTPUT_GCS_PATH"
   ]
  },
  {
   "cell_type": "code",
   "execution_count": null,
   "metadata": {},
   "outputs": [],
   "source": []
  }
 ],
 "metadata": {
  "environment": {
   "name": "common-cpu.m54",
   "type": "gcloud",
   "uri": "gcr.io/deeplearning-platform-release/base-cpu:m54"
  },
  "kernelspec": {
   "display_name": "Python 3",
   "language": "python",
   "name": "python3"
  },
  "language_info": {
   "codemirror_mode": {
    "name": "ipython",
    "version": 3
   },
   "file_extension": ".py",
   "mimetype": "text/x-python",
   "name": "python",
   "nbconvert_exporter": "python",
   "pygments_lexer": "ipython3",
   "version": "3.7.8"
  }
 },
 "nbformat": 4,
 "nbformat_minor": 4
}
