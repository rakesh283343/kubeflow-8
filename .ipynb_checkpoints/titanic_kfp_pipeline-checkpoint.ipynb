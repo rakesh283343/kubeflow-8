{
 "cells": [
  {
   "cell_type": "code",
   "execution_count": 3,
   "metadata": {},
   "outputs": [],
   "source": [
    "#titanic_kfp_pipeline.ipynb\n",
    "#Copyright 2020 Google LLC. \n",
    "#This software is provided as-is, without warranty or representation for any use or purpose. \n",
    "#Your use of it is subject to your agreements with Google.\n",
    "#Author: whjang@google.com\n",
    "\n",
    "PROJECT_ID = 'kubeflow-test'\n",
    "IMAGE_PREFIX = 'whjang-titanic'\n",
    "PREPROC_DIR = 'preprocess'\n",
    "TRAIN_DIR = 'train'\n",
    "\n",
    "WORK_BUCKET = 'gs://kubeflow-test-280609-kubeflowpipelines-default'\n",
    "RAW_CSV_GCS_URI = WORK_BUCKET + '/rawdata/train.csv'\n",
    "PREPROC_CSV_GCS_URI = WORK_BUCKET + '/preprocdata/processed_train.csv'\n",
    "ACC_CSV_GCS_URI = WORK_BUCKET + '/latestacc/accuracy.csv'\n",
    "MODEL_PKL_GCS_URI = WORK_BUCKET + '/model/model.pkl'\n",
    "STAGE_GCS_FOLDER = WORK_BUCKET + '/stage'\n",
    "\n",
    "AIPJOB_TRAINER_GCS_PATH = WORK_BUCKET + '/train/titanic_train.tar.gz'\n",
    "AIPJOB_OUTPUT_GCS_PATH = WORK_BUCKET + '/train/output/'\n",
    "\n",
    "import os\n",
    "os.environ[\"PROJECT_ID\"] = PROJECT_ID\n",
    "os.environ[\"IMAGE_PREFIX\"] = IMAGE_PREFIX\n",
    "os.environ[\"PREPROC_DIR\"] = PREPROC_DIR\n",
    "os.environ[\"TRAIN_DIR\"] = TRAIN_DIR\n",
    "os.environ[\"WORK_BUCKET\"] = WORK_BUCKET\n",
    "os.environ[\"RAW_CSV_GCS_URI\"] = RAW_CSV_GCS_URI\n",
    "os.environ[\"PREPROC_CSV_GCS_URI\"] = PREPROC_CSV_GCS_URI\n",
    "os.environ[\"ACC_CSV_GCS_URI\"] = ACC_CSV_GCS_URI\n",
    "os.environ[\"MODEL_PKL_GCS_URI\"] = MODEL_PKL_GCS_URI\n",
    "os.environ[\"STAGE_GCS_FOLDER\"] = STAGE_GCS_FOLDER\n",
    "os.environ[\"AIPJOB_TRAINER_GCS_PATH\"] = AIPJOB_TRAINER_GCS_PATH\n",
    "os.environ[\"AIPJOB_OUTPUT_GCS_PATH\"] = AIPJOB_OUTPUT_GCS_PATH"
   ]
  },
  {
   "cell_type": "code",
   "execution_count": 25,
   "metadata": {},
   "outputs": [
    {
     "name": "stdout",
     "output_type": "stream",
     "text": [
      "Sending build context to Docker daemon  8.704kB\n",
      "Step 1/8 : FROM frolvlad/alpine-python-machinelearning\n",
      " ---> 9e141b2fee53\n",
      "Step 2/8 : RUN pip install --upgrade gcsfs\n",
      " ---> Using cache\n",
      " ---> fd298be8ef56\n",
      "Step 3/8 : RUN pip install --upgrade argparse\n",
      " ---> Using cache\n",
      " ---> 7c97d6958e46\n",
      "Step 4/8 : ENV PYTHONUNBUFFERED 1\n",
      " ---> Using cache\n",
      " ---> ea2ae2185792\n",
      "Step 5/8 : RUN mkdir -p /titanic/src\n",
      " ---> Using cache\n",
      " ---> 4c871e6da0ac\n",
      "Step 6/8 : COPY . /titanic/src\n",
      " ---> Using cache\n",
      " ---> 42209e9f5202\n",
      "Step 7/8 : WORKDIR /titanic/src\n",
      " ---> Using cache\n",
      " ---> 311000781863\n",
      "Step 8/8 : ENTRYPOINT [\"python\", \"titanic_preprocess.py\"]\n",
      " ---> Using cache\n",
      " ---> 21f81a3debd7\n",
      "Successfully built 21f81a3debd7\n",
      "Successfully tagged whjang-titanic-preprocess:latest\n",
      "The push refers to repository [docker.io/kubeflow-test/whjang-titanic-preprocess]\n",
      "\n",
      "\u001b[1Baa84b50d: Preparing \n",
      "\u001b[1B6e052df7: Preparing \n",
      "\u001b[1Bf47da9cc: Preparing \n",
      "\u001b[1B6c8645e5: Preparing \n",
      "\u001b[1B2d9188d2: Preparing \n",
      "\u001b[1B01e901e5: Preparing \n",
      "\u001b[1B9ef47504: Preparing \n",
      "\u001b[1B4c29ef5a: Waiting g denied: requested access to the resource is denied\n"
     ]
    }
   ],
   "source": [
    "!docker build -t $IMAGE_PREFIX-$PREPROC_DIR $PREPROC_DIR/.\n",
    "!docker tag $IMAGE_PREFIX-$PREPROC_DIR:latest docker.io/insoopark/$IMAGE_PREFIX-$PREPROC_DIR:latest\n",
    "!docker push docker.io/insoopark/$IMAGE_PREFIX-$PREPROC_DIR:latest"
   ]
  },
  {
   "cell_type": "code",
   "execution_count": null,
   "metadata": {},
   "outputs": [],
   "source": []
  }
 ],
 "metadata": {
  "environment": {
   "name": "common-cpu.m54",
   "type": "gcloud",
   "uri": "gcr.io/deeplearning-platform-release/base-cpu:m54"
  },
  "kernelspec": {
   "display_name": "Python 3",
   "language": "python",
   "name": "python3"
  },
  "language_info": {
   "codemirror_mode": {
    "name": "ipython",
    "version": 3
   },
   "file_extension": ".py",
   "mimetype": "text/x-python",
   "name": "python",
   "nbconvert_exporter": "python",
   "pygments_lexer": "ipython3",
   "version": "3.7.8"
  }
 },
 "nbformat": 4,
 "nbformat_minor": 4
}
