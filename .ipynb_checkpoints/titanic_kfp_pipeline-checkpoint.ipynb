{
 "cells": [
  {
   "cell_type": "code",
   "execution_count": null,
   "metadata": {},
   "outputs": [],
   "source": [
    "#titanic_kfp_pipeline.ipynb\n",
    "#Copyright 2020 Google LLC. \n",
    "#This software is provided as-is, without warranty or representation for any use or purpose. \n",
    "#Your use of it is subject to your agreements with Google.\n",
    "#Author: whjang@google.comPROJECT_ID = “aiplatformdemo”\n",
    "IMAGE_PREFIX = “whjang-titanic”\n",
    "PREPROC_DIR = “preprocess”\n",
    "TRAIN_DIR = “train”WORK_BUCKET = “gs://aiplatformdemo-kubeflowpipelines-default”\n",
    "RAW_CSV_GCS_URI = WORK_BUCKET + “/rawdata/train.csv”\n",
    "PREPROC_CSV_GCS_URI = WORK_BUCKET + “/preprocdata/processed_train.csv”\n",
    "ACC_CSV_GCS_URI = WORK_BUCKET + “/latestacc/accuracy.csv”\n",
    "MODEL_PKL_GCS_URI = WORK_BUCKET + “/model/model.pkl”\n",
    "STAGE_GCS_FOLDER = WORK_BUCKET + “/stage”AIPJOB_TRAINER_GCS_PATH = WORK_BUCKET + “/train/titanic_train.tar.gz”\n",
    "AIPJOB_OUTPUT_GCS_PATH = WORK_BUCKET + “/train/output/”import os\n",
    "os.environ[‘PROJECT_ID’] = PROJECT_ID\n",
    "os.environ[‘IMAGE_PREFIX’] = IMAGE_PREFIX\n",
    "os.environ[‘PREPROC_DIR’] = PREPROC_DIR\n",
    "os.environ[‘TRAIN_DIR’] = TRAIN_DIRos.environ[‘WORK_BUCKET’] = WORK_BUCKET\n",
    "os.environ[‘RAW_CSV_GCS_URI’] = RAW_CSV_GCS_URI\n",
    "os.environ[‘PREPROC_CSV_GCS_URI’] = PREPROC_CSV_GCS_URI\n",
    "os.environ[‘ACC_CSV_GCS_URI’] = ACC_CSV_GCS_URI\n",
    "os.environ[‘MODEL_PKL_GCS_URI’] = MODEL_PKL_GCS_URI\n",
    "os.environ[‘STAGE_GCS_FOLDER’] = STAGE_GCS_FOLDER\n",
    "os.environ[‘AIPJOB_TRAINER_GCS_PATH’] = AIPJOB_TRAINER_GCS_PATH\n",
    "os.environ[‘AIPJOB_OUTPUT_GCS_PATH’] = AIPJOB_OUTPUT_GCS_PATH!echo $PROJECT_ID\n",
    "!echo $IMAGE_PREFIX\n",
    "!echo $PREPROC_DIR\n",
    "!echo $TRAIN_DIR\n",
    "!echo $WORK_BUCKET\n",
    "!echo $RAW_CSV_GCS_URI\n",
    "!echo $PREPROC_CSV_GCS_URI\n",
    "!echo $ACC_CSV_GCS_URI\n",
    "!echo $MODEL_PKL_GCS_URI\n",
    "!echo $STAGE_GCS_FOLDER\n",
    "!echo $AIPJOB_TRAINER_GCS_PATH\n",
    "!echo $AIPJOB_OUTPUT_GCS_PATH"
   ]
  }
 ],
 "metadata": {
  "environment": {
   "name": "common-cpu.m54",
   "type": "gcloud",
   "uri": "gcr.io/deeplearning-platform-release/base-cpu:m54"
  },
  "kernelspec": {
   "display_name": "Python 3",
   "language": "python",
   "name": "python3"
  },
  "language_info": {
   "codemirror_mode": {
    "name": "ipython",
    "version": 3
   },
   "file_extension": ".py",
   "mimetype": "text/x-python",
   "name": "python",
   "nbconvert_exporter": "python",
   "pygments_lexer": "ipython3",
   "version": "3.7.8"
  }
 },
 "nbformat": 4,
 "nbformat_minor": 4
}
