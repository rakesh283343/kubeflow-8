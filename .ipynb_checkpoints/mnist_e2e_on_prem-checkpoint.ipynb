{
 "cells": [
  {
   "cell_type": "code",
   "execution_count": 1,
   "metadata": {},
   "outputs": [
    {
     "name": "stdout",
     "output_type": "stream",
     "text": [
      "Name: kubeflow-fairing\n",
      "Version: 1.0.1\n",
      "Summary: Kubeflow Fairing Python SDK.\n",
      "Home-page: https://github.com/kubeflow/fairing\n",
      "Author: Kubeflow Authors\n",
      "Author-email: hejinchi@cn.ibm.com\n",
      "License: Apache License Version 2.0\n",
      "Location: /usr/local/lib/python3.6/dist-packages\n",
      "Requires: requests, ibm-cos-sdk, setuptools, notebook, tornado, urllib3, nbconvert, retrying, azure-storage-file, kubernetes, google-auth, future, docker, numpy, oauth2client, cloudpickle, kubeflow-tfjob, boto3, google-cloud-logging, kfserving, python-dateutil, grpcio, azure-mgmt-storage, google-cloud-storage, google-api-python-client, six, kubeflow-pytorchjob, httplib2\n",
      "Required-by: \n"
     ]
    }
   ],
   "source": [
    "!pip show kubeflow-fairing"
   ]
  },
  {
   "cell_type": "code",
   "execution_count": 2,
   "metadata": {},
   "outputs": [],
   "source": [
    "# Set docker registry to store image.\n",
    "# Ensure you have permission for pushing docker image requests. \n",
    "DOCKER_REGISTRY = 'index.docker.io/insoopark'\n",
    "\n",
    "# Set namespace. Note that the created PVC should be in the namespace.\n",
    "my_namespace = 'admin'\n",
    "# You also can get the default target namepspace using below API.\n",
    "#namespace = fairing_utils.get_default_target_namespace()"
   ]
  },
  {
   "cell_type": "code",
   "execution_count": 5,
   "metadata": {},
   "outputs": [],
   "source": [
    "# To satify the distributed training, the PVC should be access from all nodes in the cluster.\n",
    "# The example creates a NFS PV to satify that.\n",
    "#nfs_server = '172.16.189.69'\n",
    "#nfs_path = '/opt/kubeflow/data/mnist'\n",
    "pv_name = 'kubeflow-mnist'\n",
    "pvc_name = 'mnist-pvc'"
   ]
  },
  {
   "cell_type": "code",
   "execution_count": 6,
   "metadata": {},
   "outputs": [
    {
     "name": "stdout",
     "output_type": "stream",
     "text": [
      "Requirement already satisfied: pyyaml in /usr/local/lib/python3.6/dist-packages (5.3.1)\n"
     ]
    }
   ],
   "source": [
    "!pip install pyyaml"
   ]
  },
  {
   "cell_type": "code",
   "execution_count": 7,
   "metadata": {},
   "outputs": [],
   "source": [
    "from kubernetes import client as k8s_client\n",
    "from kubernetes import config as k8s_config\n",
    "from kubeflow.fairing.utils import is_running_in_k8s\n",
    "import yaml\n",
    "\n",
    "pv_yaml = f'''\n",
    "apiVersion: v1\n",
    "kind: PersistentVolume\n",
    "metadata:\n",
    "  name: {pv_name}\n",
    "spec:\n",
    "  capacity:\n",
    "    storage: 10Gi\n",
    "  accessModes:\n",
    "  - ReadWriteMany\n",
    "  persistentVolumeReclaimPolicy: Retain\n",
    "  storageClassName: standard\n",
    "  hostPath:\n",
    "    path: /home/insoo67_park/data/7\n",
    "'''\n",
    "pvc_yaml = f'''\n",
    "apiVersion: v1\n",
    "kind: PersistentVolumeClaim\n",
    "metadata:\n",
    "  name: {pvc_name}\n",
    "  namespace: {my_namespace}\n",
    "spec:\n",
    "  accessModes:\n",
    "    - ReadWriteMany\n",
    "  storageClassName: standard\n",
    "  resources:\n",
    "    requests:\n",
    "      storage: 10Gi\n",
    "'''\n",
    "\n",
    "if is_running_in_k8s():\n",
    "    k8s_config.load_incluster_config()\n",
    "else:\n",
    "    k8s_config.load_kube_config()\n",
    "\n",
    "k8s_core_api = k8s_client.CoreV1Api()\n",
    "#k8s_core_api.create_persistent_volume(yaml.safe_load(pv_yaml))\n",
    "#k8s_core_api.create_namespaced_persistent_volume_claim(my_namespace, yaml.safe_load(pvc_yaml))\n"
   ]
  },
  {
   "cell_type": "code",
   "execution_count": 8,
   "metadata": {},
   "outputs": [],
   "source": [
    "num_chief = 1 #number of Chief in TFJob \n",
    "num_ps = 1  #number of PS in TFJob \n",
    "num_workers = 1  #number of Worker in TFJob \n",
    "model_dir = \"/mnt\"\n",
    "export_path = \"/mnt/export\" \n",
    "train_steps = \"1000\"\n",
    "batch_size = \"100\"\n",
    "learning_rate = \"0.01\""
   ]
  },
  {
   "cell_type": "code",
   "execution_count": 18,
   "metadata": {},
   "outputs": [
    {
     "name": "stderr",
     "output_type": "stream",
     "text": [
      "[W 200829 07:08:01 utils:51] The function mounting_pvc has been deprecated,                     please use `volume_mounts`\n",
      "[I 200829 07:08:01 config:134] Using preprocessor: <kubeflow.fairing.preprocessors.base.BasePreProcessor object at 0x7f9a64eb4da0>\n",
      "[I 200829 07:08:01 config:136] Using builder: <kubeflow.fairing.builders.append.append.AppendBuilder object at 0x7f9a8c7423c8>\n",
      "[I 200829 07:08:01 config:138] Using deployer: <kubeflow.fairing.deployers.tfjob.tfjob.TfJob object at 0x7f9a64eaca90>\n",
      "[W 200829 07:08:01 append:50] Building image using Append builder...\n",
      "[I 200829 07:08:01 base:107] Creating docker context: /tmp/fairing_context_840mjsuo\n",
      "[I 200829 07:08:01 docker_creds_:234] Loading Docker credentials for repository 'tensorflow/tensorflow:1.15.2-py3'\n",
      "[W 200829 07:08:02 append:54] Image successfully built in 1.001206887999615s.\n",
      "[W 200829 07:08:02 append:94] Pushing image index.docker.io/insoopark/mnist:584A65A0...\n",
      "[I 200829 07:08:02 docker_creds_:234] Loading Docker credentials for repository 'index.docker.io/insoopark/mnist:584A65A0'\n",
      "[W 200829 07:08:02 append:81] Uploading index.docker.io/insoopark/mnist:584A65A0\n",
      "[I 200829 07:08:02 docker_session_:280] Layer sha256:651c9d2d6c4f37c56a221259e033e7e2353b698139c2ff950623ca28d64a9837 exists, skipping\n",
      "[I 200829 07:08:02 docker_session_:280] Layer sha256:2d8b4073f9d39e80ce92e297fe9b8ce758ce42efea2e571680b18da0fa518ac1 exists, skipping\n",
      "[I 200829 07:08:02 docker_session_:280] Layer sha256:3ecca60901ea27296d489f07a0772f7be13ba717cf6b8b9aab2e7371c8d28c55 exists, skipping\n",
      "[I 200829 07:08:02 docker_session_:280] Layer sha256:8b4189038ec35a8fd98f1cbde988559fb2d010f158056f788bd1e1edee3e1d4f exists, skipping\n",
      "[I 200829 07:08:02 docker_session_:280] Layer sha256:19a861ea6baff71b05cd577478984c3e62cf0177bf74468d0aca551f5fcb891c exists, skipping\n",
      "[I 200829 07:08:02 docker_session_:280] Layer sha256:6ad1a4724db544c56f6ec06f51e23888ac20d4ec05cd03eed907a9b1bfc13698 exists, skipping\n",
      "[I 200829 07:08:02 docker_session_:280] Layer sha256:c63719cdbe7ae254b453dba06fb446f583b503f2a2c15becc83f8c5bc7a705e0 exists, skipping\n",
      "[I 200829 07:08:02 docker_session_:280] Layer sha256:5c939e3a4d1097af8d3292ad3a41d3caa846f6333b91f2dd22b972bc2d19c5b5 exists, skipping\n",
      "[I 200829 07:08:02 docker_session_:280] Layer sha256:be48143b2f7680d6c336e04617cbda8592a70733f7b6380c6f9d137d38bbb8aa exists, skipping\n",
      "[I 200829 07:08:02 docker_session_:280] Layer sha256:cde5a12335848fad1659e2c6026b0c266902d2671a6f626ae0c0d178222b3ae6 exists, skipping\n",
      "[I 200829 07:08:02 docker_session_:280] Layer sha256:8e380181f1d6ac5c8cba8bea118d7debf84cffc710ed86fb4801fd91314fbbc8 exists, skipping\n",
      "[I 200829 07:08:03 docker_session_:284] Layer sha256:d64e21581d9eb3c4e327d31726b9dae24edd8d1ef90f3cbc877eddeeff499037 pushed.\n",
      "[I 200829 07:08:04 docker_session_:334] Finished upload of: index.docker.io/insoopark/mnist:584A65A0\n",
      "[W 200829 07:08:04 append:99] Pushed image index.docker.io/insoopark/mnist:584A65A0 in 2.0051772269998764s.\n",
      "[W 200829 07:08:04 job:101] The tfjob mnist-training-0784 launched.\n"
     ]
    },
    {
     "data": {
      "text/plain": [
       "(<kubeflow.fairing.preprocessors.base.BasePreProcessor at 0x7f9a64eb4da0>,\n",
       " <kubeflow.fairing.builders.append.append.AppendBuilder at 0x7f9a8c7423c8>,\n",
       " <kubeflow.fairing.deployers.tfjob.tfjob.TfJob at 0x7f9a64eaca90>)"
      ]
     },
     "execution_count": 18,
     "metadata": {},
     "output_type": "execute_result"
    }
   ],
   "source": [
    "import uuid\n",
    "from kubeflow import fairing   \n",
    "from kubeflow.fairing.kubernetes.utils import mounting_pvc\n",
    "from kubeflow.fairing.kubernetes import utils as k8s_utils\n",
    "\n",
    "tfjob_name = f'mnist-training-{uuid.uuid4().hex[:4]}'\n",
    "\n",
    "output_map =  {\n",
    "    \"Dockerfile\": \"Dockerfile\",\n",
    "    \"mnist.py\": \"mnist.py\"\n",
    "}\n",
    "\n",
    "command=[\"python\",\n",
    "         \"/opt/mnist.py\",\n",
    "         \"--tf-model-dir=\" + model_dir,\n",
    "         \"--tf-export-dir=\" + export_path,\n",
    "         \"--tf-train-steps=\" + train_steps,\n",
    "         \"--tf-batch-size=\" + batch_size,\n",
    "         \"--tf-learning-rate=\" + learning_rate]\n",
    "\n",
    "fairing.config.set_preprocessor('python', input_files=[\"mnist.py\"], executable=\"mnist.py\")\n",
    "# fairing.config.set_preprocessor('python', command=command, path_prefix=\"/app\", output_map=output_map)\n",
    "fairing.config.set_builder(\n",
    "            name='append',\n",
    "            image_name='mnist',\n",
    "            base_image='tensorflow/tensorflow:1.15.2-py3',\n",
    "            registry=DOCKER_REGISTRY, \n",
    "            push=True)\n",
    "# fairing.config.set_builder(name='docker', registry=DOCKER_REGISTRY, base_image=\"\", image_name=\"mnist\", dockerfile_path=\"Dockerfile\")\n",
    "# fairing.config.set_deployer(name='tfjob', namespace=my_namespace, stream_log=False, job_name=tfjob_name,\n",
    "#                            chief_count=num_chief, worker_count=num_workers, ps_count=num_ps, \n",
    "#                            pod_spec_mutators=[mounting_pvc(pvc_name=pvc_name, pvc_mount_path=model_dir)])\n",
    "fairing.config.set_deployer('tfjob', namespace='admin', stream_log=False, job_name=tfjob_name, \n",
    "                            # chief_count=num_chief, worker_count=num_workers, ps_count=num_ps,\n",
    "                            pod_spec_mutators=[k8s_utils.get_resource_mutator(cpu=1, memory=2),\n",
    "                                               mounting_pvc(pvc_name=pvc_name, pvc_mount_path=model_dir)])\n",
    "\n",
    "fairing.config.run()"
   ]
  },
  {
   "cell_type": "code",
   "execution_count": 19,
   "metadata": {},
   "outputs": [
    {
     "data": {
      "text/plain": [
       "{'apiVersion': 'kubeflow.org/v1',\n",
       " 'kind': 'TFJob',\n",
       " 'metadata': {'creationTimestamp': '2020-08-29T07:08:04Z',\n",
       "  'generateName': 'fairing-tfjob-',\n",
       "  'generation': 1,\n",
       "  'labels': {'fairing-deployer': 'tfjob',\n",
       "   'fairing-id': '61bfda76-e9c6-11ea-8ee8-26a9a7e45509'},\n",
       "  'name': 'mnist-training-0784',\n",
       "  'namespace': 'admin',\n",
       "  'resourceVersion': '26963',\n",
       "  'selfLink': '/apis/kubeflow.org/v1/namespaces/admin/tfjobs/mnist-training-0784',\n",
       "  'uid': '839fdf24-c77d-4984-8c70-5a08add868ad'},\n",
       " 'spec': {'tfReplicaSpecs': {'Worker': {'replicas': 1,\n",
       "    'template': {'metadata': {'annotations': {'sidecar.istio.io/inject': 'false'},\n",
       "      'labels': {'fairing-deployer': 'tfjob',\n",
       "       'fairing-id': '61bfda76-e9c6-11ea-8ee8-26a9a7e45509'},\n",
       "      'name': 'fairing-deployer'},\n",
       "     'spec': {'containers': [{'command': ['python', '/app/mnist.py'],\n",
       "        'env': [{'name': 'FAIRING_RUNTIME', 'value': '1'}],\n",
       "        'image': 'index.docker.io/insoopark/mnist:584A65A0',\n",
       "        'name': 'tensorflow',\n",
       "        'resources': {'limits': {'cpu': 1, 'memory': '1.86Gi'}},\n",
       "        'securityContext': {'runAsUser': 0},\n",
       "        'volumeMounts': [{'mountPath': '/mnt',\n",
       "          'name': 'fairing-volume-mnist-pvc'}],\n",
       "        'workingDir': '/app/'}],\n",
       "      'restartPolicy': 'Never',\n",
       "      'volumes': [{'name': 'fairing-volume-mnist-pvc',\n",
       "        'persistentVolumeClaim': {'claimName': 'mnist-pvc'}}]}}}}},\n",
       " 'status': {'conditions': [{'lastTransitionTime': '2020-08-29T07:08:04Z',\n",
       "    'lastUpdateTime': '2020-08-29T07:08:04Z',\n",
       "    'message': 'TFJob mnist-training-0784 is created.',\n",
       "    'reason': 'TFJobCreated',\n",
       "    'status': 'True',\n",
       "    'type': 'Created'}],\n",
       "  'replicaStatuses': {'Worker': {}},\n",
       "  'startTime': '2020-08-29T07:08:04Z'}}"
      ]
     },
     "execution_count": 19,
     "metadata": {},
     "output_type": "execute_result"
    }
   ],
   "source": [
    "from kubeflow.tfjob import TFJobClient\n",
    "tfjob_client = TFJobClient()\n",
    "\n",
    "tfjob_client.get(tfjob_name, namespace=my_namespace)"
   ]
  },
  {
   "cell_type": "code",
   "execution_count": 20,
   "metadata": {},
   "outputs": [
    {
     "name": "stdout",
     "output_type": "stream",
     "text": [
      "mnist-training-0784            Created              2020-08-29T07:08:04Z          \n",
      "mnist-training-0784            Running              2020-08-29T07:08:48Z          \n",
      "mnist-training-0784            Succeeded            2020-08-29T07:10:38Z          \n"
     ]
    }
   ],
   "source": [
    "tfjob_client.wait_for_job(tfjob_name, namespace=my_namespace, watch=True)"
   ]
  },
  {
   "cell_type": "code",
   "execution_count": 21,
   "metadata": {},
   "outputs": [
    {
     "data": {
      "text/plain": [
       "True"
      ]
     },
     "execution_count": 21,
     "metadata": {},
     "output_type": "execute_result"
    }
   ],
   "source": [
    "tfjob_client.is_job_succeeded(tfjob_name, namespace=my_namespace)"
   ]
  },
  {
   "cell_type": "code",
   "execution_count": 22,
   "metadata": {},
   "outputs": [
    {
     "name": "stderr",
     "output_type": "stream",
     "text": [
      "[I 200829 07:10:38 tf_job_client:386] The logs of Pod mnist-training-0784-worker-0:\n",
      "     WARNING:tensorflow:From /app/mnist.py:240: The name tf.app.run is deprecated. Please use tf.compat.v1.app.run instead.\n",
      "    \n",
      "    WARNING:tensorflow:From /app/mnist.py:155: The name tf.logging.set_verbosity is deprecated. Please use tf.compat.v1.logging.set_verbosity instead.\n",
      "    \n",
      "    W0829 07:08:50.540437 140716473689920 module_wrapper.py:139] From /app/mnist.py:155: The name tf.logging.set_verbosity is deprecated. Please use tf.compat.v1.logging.set_verbosity instead.\n",
      "    \n",
      "    WARNING:tensorflow:From /app/mnist.py:155: The name tf.logging.INFO is deprecated. Please use tf.compat.v1.logging.INFO instead.\n",
      "    \n",
      "    W0829 07:08:50.540673 140716473689920 module_wrapper.py:139] From /app/mnist.py:155: The name tf.logging.INFO is deprecated. Please use tf.compat.v1.logging.INFO instead.\n",
      "    \n",
      "    WARNING:tensorflow:From /app/mnist.py:160: The name tf.logging.info is deprecated. Please use tf.compat.v1.logging.info instead.\n",
      "    \n",
      "    W0829 07:08:50.541976 140716473689920 module_wrapper.py:139] From /app/mnist.py:160: The name tf.logging.info is deprecated. Please use tf.compat.v1.logging.info instead.\n",
      "    \n",
      "    INFO:tensorflow:TF_CONFIG {}\n",
      "    I0829 07:08:50.542119 140716473689920 mnist.py:160] TF_CONFIG {}\n",
      "    INFO:tensorflow:cluster=None job_name=None task_index=None\n",
      "    I0829 07:08:50.542696 140716473689920 mnist.py:166] cluster=None job_name=None task_index=None\n",
      "    INFO:tensorflow:Will export model\n",
      "    I0829 07:08:50.542799 140716473689920 mnist.py:171] Will export model\n",
      "    WARNING:tensorflow:\n",
      "    The TensorFlow contrib module will not be included in TensorFlow 2.0.\n",
      "    For more information, please see:\n",
      "      * https://github.com/tensorflow/community/blob/master/rfcs/20180907-contrib-sunset.md\n",
      "      * https://github.com/tensorflow/addons\n",
      "      * https://github.com/tensorflow/io (for I/O related ops)\n",
      "    If you depend on functionality not listed there, please file an issue.\n",
      "    \n",
      "    W0829 07:08:50.542928 140716473689920 lazy_loader.py:50] \n",
      "    The TensorFlow contrib module will not be included in TensorFlow 2.0.\n",
      "    For more information, please see:\n",
      "      * https://github.com/tensorflow/community/blob/master/rfcs/20180907-contrib-sunset.md\n",
      "      * https://github.com/tensorflow/addons\n",
      "      * https://github.com/tensorflow/io (for I/O related ops)\n",
      "    If you depend on functionality not listed there, please file an issue.\n",
      "    \n",
      "    WARNING:tensorflow:From /app/mnist.py:176: load_mnist (from tensorflow.contrib.learn.python.learn.datasets.mnist) is deprecated and will be removed in a future version.\n",
      "    Instructions for updating:\n",
      "    Please use alternatives such as official/mnist/dataset.py from tensorflow/models.\n",
      "    W0829 07:08:50.945543 140716473689920 deprecation.py:323] From /app/mnist.py:176: load_mnist (from tensorflow.contrib.learn.python.learn.datasets.mnist) is deprecated and will be removed in a future version.\n",
      "    Instructions for updating:\n",
      "    Please use alternatives such as official/mnist/dataset.py from tensorflow/models.\n",
      "    WARNING:tensorflow:From /usr/local/lib/python3.6/dist-packages/tensorflow_core/contrib/learn/python/learn/datasets/mnist.py:300: read_data_sets (from tensorflow.contrib.learn.python.learn.datasets.mnist) is deprecated and will be removed in a future version.\n",
      "    Instructions for updating:\n",
      "    Please use alternatives such as official/mnist/dataset.py from tensorflow/models.\n",
      "    W0829 07:08:50.945795 140716473689920 deprecation.py:323] From /usr/local/lib/python3.6/dist-packages/tensorflow_core/contrib/learn/python/learn/datasets/mnist.py:300: read_data_sets (from tensorflow.contrib.learn.python.learn.datasets.mnist) is deprecated and will be removed in a future version.\n",
      "    Instructions for updating:\n",
      "    Please use alternatives such as official/mnist/dataset.py from tensorflow/models.\n",
      "    WARNING:tensorflow:From /usr/local/lib/python3.6/dist-packages/tensorflow_core/contrib/learn/python/learn/datasets/mnist.py:260: maybe_download (from tensorflow.contrib.learn.python.learn.datasets.base) is deprecated and will be removed in a future version.\n",
      "    Instructions for updating:\n",
      "    Please write your own downloading logic.\n",
      "    W0829 07:08:50.945910 140716473689920 deprecation.py:323] From /usr/local/lib/python3.6/dist-packages/tensorflow_core/contrib/learn/python/learn/datasets/mnist.py:260: maybe_download (from tensorflow.contrib.learn.python.learn.datasets.base) is deprecated and will be removed in a future version.\n",
      "    Instructions for updating:\n",
      "    Please write your own downloading logic.\n",
      "    WARNING:tensorflow:From /usr/local/lib/python3.6/dist-packages/tensorflow_core/contrib/learn/python/learn/datasets/base.py:252: _internal_retry.<locals>.wrap.<locals>.wrapped_fn (from tensorflow.contrib.learn.python.learn.datasets.base) is deprecated and will be removed in a future version.\n",
      "    Instructions for updating:\n",
      "    Please use urllib or similar directly.\n",
      "    W0829 07:08:50.946249 140716473689920 deprecation.py:323] From /usr/local/lib/python3.6/dist-packages/tensorflow_core/contrib/learn/python/learn/datasets/base.py:252: _internal_retry.<locals>.wrap.<locals>.wrapped_fn (from tensorflow.contrib.learn.python.learn.datasets.base) is deprecated and will be removed in a future version.\n",
      "    Instructions for updating:\n",
      "    Please use urllib or similar directly.\n",
      "    WARNING:tensorflow:From /usr/local/lib/python3.6/dist-packages/tensorflow_core/contrib/learn/python/learn/datasets/mnist.py:262: extract_images (from tensorflow.contrib.learn.python.learn.datasets.mnist) is deprecated and will be removed in a future version.\n",
      "    Instructions for updating:\n",
      "    Please use tf.data to implement this functionality.\n",
      "    W0829 07:08:51.111013 140716473689920 deprecation.py:323] From /usr/local/lib/python3.6/dist-packages/tensorflow_core/contrib/learn/python/learn/datasets/mnist.py:262: extract_images (from tensorflow.contrib.learn.python.learn.datasets.mnist) is deprecated and will be removed in a future version.\n",
      "    Instructions for updating:\n",
      "    Please use tf.data to implement this functionality.\n",
      "    WARNING:tensorflow:From /usr/local/lib/python3.6/dist-packages/tensorflow_core/contrib/learn/python/learn/datasets/mnist.py:267: extract_labels (from tensorflow.contrib.learn.python.learn.datasets.mnist) is deprecated and will be removed in a future version.\n",
      "    Instructions for updating:\n",
      "    Please use tf.data to implement this functionality.\n",
      "    W0829 07:08:51.414515 140716473689920 deprecation.py:323] From /usr/local/lib/python3.6/dist-packages/tensorflow_core/contrib/learn/python/learn/datasets/mnist.py:267: extract_labels (from tensorflow.contrib.learn.python.learn.datasets.mnist) is deprecated and will be removed in a future version.\n",
      "    Instructions for updating:\n",
      "    Please use tf.data to implement this functionality.\n",
      "    WARNING:tensorflow:From /usr/local/lib/python3.6/dist-packages/tensorflow_core/contrib/learn/python/learn/datasets/mnist.py:290: DataSet.__init__ (from tensorflow.contrib.learn.python.learn.datasets.mnist) is deprecated and will be removed in a future version.\n",
      "    Instructions for updating:\n",
      "    Please use alternatives such as official/mnist/dataset.py from tensorflow/models.\n",
      "    W0829 07:08:51.580364 140716473689920 deprecation.py:323] From /usr/local/lib/python3.6/dist-packages/tensorflow_core/contrib/learn/python/learn/datasets/mnist.py:290: DataSet.__init__ (from tensorflow.contrib.learn.python.learn.datasets.mnist) is deprecated and will be removed in a future version.\n",
      "    Instructions for updating:\n",
      "    Please use alternatives such as official/mnist/dataset.py from tensorflow/models.\n",
      "    WARNING:tensorflow:From /app/mnist.py:177: The name tf.estimator.inputs is deprecated. Please use tf.compat.v1.estimator.inputs instead.\n",
      "    \n",
      "    W0829 07:08:51.885475 140716473689920 module_wrapper.py:139] From /app/mnist.py:177: The name tf.estimator.inputs is deprecated. Please use tf.compat.v1.estimator.inputs instead.\n",
      "    \n",
      "    WARNING:tensorflow:From /app/mnist.py:177: The name tf.estimator.inputs.numpy_input_fn is deprecated. Please use tf.compat.v1.estimator.inputs.numpy_input_fn instead.\n",
      "    \n",
      "    W0829 07:08:51.885760 140716473689920 module_wrapper.py:139] From /app/mnist.py:177: The name tf.estimator.inputs.numpy_input_fn is deprecated. Please use tf.compat.v1.estimator.inputs.numpy_input_fn instead.\n",
      "    \n",
      "    WARNING:tensorflow:Using temporary folder as model directory: /tmp/tmpofr2r2nr\n",
      "    W0829 07:08:51.887003 140716473689920 estimator.py:1821] Using temporary folder as model directory: /tmp/tmpofr2r2nr\n",
      "    INFO:tensorflow:Using config: {'_model_dir': '/tmp/tmpofr2r2nr', '_tf_random_seed': None, '_save_summary_steps': 100, '_save_checkpoints_steps': 1000, '_save_checkpoints_secs': None, '_session_config': allow_soft_placement: true\n",
      "    graph_options {\n",
      "      rewrite_options {\n",
      "        meta_optimizer_iterations: ONE\n",
      "      }\n",
      "    }\n",
      "    , '_keep_checkpoint_max': 5, '_keep_checkpoint_every_n_hours': 10000, '_log_step_count_steps': 100, '_train_distribute': None, '_device_fn': None, '_protocol': None, '_eval_distribute': None, '_experimental_distribute': None, '_experimental_max_worker_delay_secs': None, '_session_creation_timeout_secs': 7200, '_service': None, '_cluster_spec': <tensorflow.python.training.server_lib.ClusterSpec object at 0x7ffaead4bdd8>, '_task_type': 'worker', '_task_id': 0, '_global_id_in_cluster': 0, '_master': '', '_evaluation_master': '', '_is_chief': True, '_num_ps_replicas': 0, '_num_worker_replicas': 1}\n",
      "    I0829 07:08:51.887533 140716473689920 estimator.py:212] Using config: {'_model_dir': '/tmp/tmpofr2r2nr', '_tf_random_seed': None, '_save_summary_steps': 100, '_save_checkpoints_steps': 1000, '_save_checkpoints_secs': None, '_session_config': allow_soft_placement: true\n",
      "    graph_options {\n",
      "      rewrite_options {\n",
      "        meta_optimizer_iterations: ONE\n",
      "      }\n",
      "    }\n",
      "    , '_keep_checkpoint_max': 5, '_keep_checkpoint_every_n_hours': 10000, '_log_step_count_steps': 100, '_train_distribute': None, '_device_fn': None, '_protocol': None, '_eval_distribute': None, '_experimental_distribute': None, '_experimental_max_worker_delay_secs': None, '_session_creation_timeout_secs': 7200, '_service': None, '_cluster_spec': <tensorflow.python.training.server_lib.ClusterSpec object at 0x7ffaead4bdd8>, '_task_type': 'worker', '_task_id': 0, '_global_id_in_cluster': 0, '_master': '', '_evaluation_master': '', '_is_chief': True, '_num_ps_replicas': 0, '_num_worker_replicas': 1}\n",
      "    INFO:tensorflow:Not using Distribute Coordinator.\n",
      "    I0829 07:08:51.888199 140716473689920 estimator_training.py:186] Not using Distribute Coordinator.\n",
      "    INFO:tensorflow:Running training and evaluation locally (non-distributed).\n",
      "    I0829 07:08:51.888405 140716473689920 training.py:612] Running training and evaluation locally (non-distributed).\n",
      "    INFO:tensorflow:Start train and evaluate loop. The evaluate will happen after every checkpoint. Checkpoint frequency is determined based on RunConfig arguments: save_checkpoints_steps 1000 or save_checkpoints_secs None.\n",
      "    I0829 07:08:51.888617 140716473689920 training.py:700] Start train and evaluate loop. The evaluate will happen after every checkpoint. Checkpoint frequency is determined based on RunConfig arguments: save_checkpoints_steps 1000 or save_checkpoints_secs None.\n",
      "    WARNING:tensorflow:From /usr/local/lib/python3.6/dist-packages/tensorflow_core/python/training/training_util.py:236: Variable.initialized_value (from tensorflow.python.ops.variables) is deprecated and will be removed in a future version.\n",
      "    Instructions for updating:\n",
      "    Use Variable.read_value. Variables in 2.X are initialized automatically both in eager and graph (inside tf.defun) contexts.\n",
      "    W0829 07:08:51.895187 140716473689920 deprecation.py:323] From /usr/local/lib/python3.6/dist-packages/tensorflow_core/python/training/training_util.py:236: Variable.initialized_value (from tensorflow.python.ops.variables) is deprecated and will be removed in a future version.\n",
      "    Instructions for updating:\n",
      "    Use Variable.read_value. Variables in 2.X are initialized automatically both in eager and graph (inside tf.defun) contexts.\n",
      "    WARNING:tensorflow:From /usr/local/lib/python3.6/dist-packages/tensorflow_estimator/python/estimator/inputs/queues/feeding_queue_runner.py:62: QueueRunner.__init__ (from tensorflow.python.training.queue_runner_impl) is deprecated and will be removed in a future version.\n",
      "    Instructions for updating:\n",
      "    To construct input pipelines, use the `tf.data` module.\n",
      "    W0829 07:08:51.910187 140716473689920 deprecation.py:323] From /usr/local/lib/python3.6/dist-packages/tensorflow_estimator/python/estimator/inputs/queues/feeding_queue_runner.py:62: QueueRunner.__init__ (from tensorflow.python.training.queue_runner_impl) is deprecated and will be removed in a future version.\n",
      "    Instructions for updating:\n",
      "    To construct input pipelines, use the `tf.data` module.\n",
      "    WARNING:tensorflow:From /usr/local/lib/python3.6/dist-packages/tensorflow_estimator/python/estimator/inputs/queues/feeding_functions.py:500: add_queue_runner (from tensorflow.python.training.queue_runner_impl) is deprecated and will be removed in a future version.\n",
      "    Instructions for updating:\n",
      "    To construct input pipelines, use the `tf.data` module.\n",
      "    W0829 07:08:51.911429 140716473689920 deprecation.py:323] From /usr/local/lib/python3.6/dist-packages/tensorflow_estimator/python/estimator/inputs/queues/feeding_functions.py:500: add_queue_runner (from tensorflow.python.training.queue_runner_impl) is deprecated and will be removed in a future version.\n",
      "    Instructions for updating:\n",
      "    To construct input pipelines, use the `tf.data` module.\n",
      "    INFO:tensorflow:Calling model_fn.\n",
      "    I0829 07:08:51.920596 140716473689920 estimator.py:1148] Calling model_fn.\n",
      "    WARNING:tensorflow:From /app/mnist.py:76: The name tf.variable_scope is deprecated. Please use tf.compat.v1.variable_scope instead.\n",
      "    \n",
      "    W0829 07:08:51.922278 140716473689920 module_wrapper.py:139] From /app/mnist.py:76: The name tf.variable_scope is deprecated. Please use tf.compat.v1.variable_scope instead.\n",
      "    \n",
      "    WARNING:tensorflow:From /app/mnist.py:82: conv2d (from tensorflow.python.layers.convolutional) is deprecated and will be removed in a future version.\n",
      "    Instructions for updating:\n",
      "    Use `tf.keras.layers.Conv2D` instead.\n",
      "    W0829 07:08:51.922648 140716473689920 deprecation.py:323] From /app/mnist.py:82: conv2d (from tensorflow.python.layers.convolutional) is deprecated and will be removed in a future version.\n",
      "    Instructions for updating:\n",
      "    Use `tf.keras.layers.Conv2D` instead.\n",
      "    WARNING:tensorflow:From /usr/local/lib/python3.6/dist-packages/tensorflow_core/python/layers/convolutional.py:424: Layer.apply (from tensorflow.python.keras.engine.base_layer) is deprecated and will be removed in a future version.\n",
      "    Instructions for updating:\n",
      "    Please use `layer.__call__` method instead.\n",
      "    W0829 07:08:51.923851 140716473689920 deprecation.py:323] From /usr/local/lib/python3.6/dist-packages/tensorflow_core/python/layers/convolutional.py:424: Layer.apply (from tensorflow.python.keras.engine.base_layer) is deprecated and will be removed in a future version.\n",
      "    Instructions for updating:\n",
      "    Please use `layer.__call__` method instead.\n",
      "    WARNING:tensorflow:From /app/mnist.py:84: max_pooling2d (from tensorflow.python.layers.pooling) is deprecated and will be removed in a future version.\n",
      "    Instructions for updating:\n",
      "    Use keras.layers.MaxPooling2D instead.\n",
      "    W0829 07:08:51.940129 140716473689920 deprecation.py:323] From /app/mnist.py:84: max_pooling2d (from tensorflow.python.layers.pooling) is deprecated and will be removed in a future version.\n",
      "    Instructions for updating:\n",
      "    Use keras.layers.MaxPooling2D instead.\n",
      "    WARNING:tensorflow:From /app/mnist.py:100: dense (from tensorflow.python.layers.core) is deprecated and will be removed in a future version.\n",
      "    Instructions for updating:\n",
      "    Use keras.layers.Dense instead.\n",
      "    W0829 07:08:51.960911 140716473689920 deprecation.py:323] From /app/mnist.py:100: dense (from tensorflow.python.layers.core) is deprecated and will be removed in a future version.\n",
      "    Instructions for updating:\n",
      "    Use keras.layers.Dense instead.\n",
      "    WARNING:tensorflow:From /app/mnist.py:104: dropout (from tensorflow.python.layers.core) is deprecated and will be removed in a future version.\n",
      "    Instructions for updating:\n",
      "    Use keras.layers.dropout instead.\n",
      "    W0829 07:08:51.976843 140716473689920 deprecation.py:323] From /app/mnist.py:104: dropout (from tensorflow.python.layers.core) is deprecated and will be removed in a future version.\n",
      "    Instructions for updating:\n",
      "    Use keras.layers.dropout instead.\n",
      "    WARNING:tensorflow:From /app/mnist.py:125: The name tf.losses.sparse_softmax_cross_entropy is deprecated. Please use tf.compat.v1.losses.sparse_softmax_cross_entropy instead.\n",
      "    \n",
      "    W0829 07:08:52.006029 140716473689920 module_wrapper.py:139] From /app/mnist.py:125: The name tf.losses.sparse_softmax_cross_entropy is deprecated. Please use tf.compat.v1.losses.sparse_softmax_cross_entropy instead.\n",
      "    \n",
      "    WARNING:tensorflow:From /usr/local/lib/python3.6/dist-packages/tensorflow_core/python/ops/losses/losses_impl.py:121: where (from tensorflow.python.ops.array_ops) is deprecated and will be removed in a future version.\n",
      "    Instructions for updating:\n",
      "    Use tf.where in 2.0, which has the same broadcast rule as np.where\n",
      "    W0829 07:08:52.015605 140716473689920 deprecation.py:323] From /usr/local/lib/python3.6/dist-packages/tensorflow_core/python/ops/losses/losses_impl.py:121: where (from tensorflow.python.ops.array_ops) is deprecated and will be removed in a future version.\n",
      "    Instructions for updating:\n",
      "    Use tf.where in 2.0, which has the same broadcast rule as np.where\n",
      "    WARNING:tensorflow:From /app/mnist.py:129: The name tf.train.GradientDescentOptimizer is deprecated. Please use tf.compat.v1.train.GradientDescentOptimizer instead.\n",
      "    \n",
      "    W0829 07:08:52.024208 140716473689920 module_wrapper.py:139] From /app/mnist.py:129: The name tf.train.GradientDescentOptimizer is deprecated. Please use tf.compat.v1.train.GradientDescentOptimizer instead.\n",
      "    \n",
      "    WARNING:tensorflow:From /app/mnist.py:132: The name tf.train.get_global_step is deprecated. Please use tf.compat.v1.train.get_global_step instead.\n",
      "    \n",
      "    W0829 07:08:52.024456 140716473689920 module_wrapper.py:139] From /app/mnist.py:132: The name tf.train.get_global_step is deprecated. Please use tf.compat.v1.train.get_global_step instead.\n",
      "    \n",
      "    INFO:tensorflow:Done calling model_fn.\n",
      "    I0829 07:08:52.106653 140716473689920 estimator.py:1150] Done calling model_fn.\n",
      "    INFO:tensorflow:Create CheckpointSaverHook.\n",
      "    I0829 07:08:52.108145 140716473689920 basic_session_run_hooks.py:541] Create CheckpointSaverHook.\n",
      "    INFO:tensorflow:Graph was finalized.\n",
      "    I0829 07:08:52.218992 140716473689920 monitored_session.py:240] Graph was finalized.\n",
      "    2020-08-29 07:08:52.219474: I tensorflow/core/platform/cpu_feature_guard.cc:142] Your CPU supports instructions that this TensorFlow binary was not compiled to use: AVX2 FMA\n",
      "    2020-08-29 07:08:52.226599: I tensorflow/core/platform/profile_utils/cpu_utils.cc:94] CPU Frequency: 2300000000 Hz\n",
      "    2020-08-29 07:08:52.227503: I tensorflow/compiler/xla/service/service.cc:168] XLA service 0x47cfa10 initialized for platform Host (this does not guarantee that XLA will be used). Devices:\n",
      "    2020-08-29 07:08:52.227603: I tensorflow/compiler/xla/service/service.cc:176]   StreamExecutor device (0): Host, Default Version\n",
      "    INFO:tensorflow:Running local_init_op.\n",
      "    I0829 07:08:52.291750 140716473689920 session_manager.py:500] Running local_init_op.\n",
      "    INFO:tensorflow:Done running local_init_op.\n",
      "    I0829 07:08:52.298745 140716473689920 session_manager.py:502] Done running local_init_op.\n",
      "    WARNING:tensorflow:From /usr/local/lib/python3.6/dist-packages/tensorflow_core/python/training/monitored_session.py:882: start_queue_runners (from tensorflow.python.training.queue_runner_impl) is deprecated and will be removed in a future version.\n",
      "    Instructions for updating:\n",
      "    To construct input pipelines, use the `tf.data` module.\n",
      "    W0829 07:08:52.319944 140716473689920 deprecation.py:323] From /usr/local/lib/python3.6/dist-packages/tensorflow_core/python/training/monitored_session.py:882: start_queue_runners (from tensorflow.python.training.queue_runner_impl) is deprecated and will be removed in a future version.\n",
      "    Instructions for updating:\n",
      "    To construct input pipelines, use the `tf.data` module.\n",
      "    INFO:tensorflow:Saving checkpoints for 0 into /tmp/tmpofr2r2nr/model.ckpt.\n",
      "    I0829 07:08:52.543597 140716473689920 basic_session_run_hooks.py:606] Saving checkpoints for 0 into /tmp/tmpofr2r2nr/model.ckpt.\n",
      "    INFO:tensorflow:loss = 2.3027816, step = 1\n",
      "    I0829 07:08:53.262660 140716473689920 basic_session_run_hooks.py:262] loss = 2.3027816, step = 1\n",
      "    INFO:tensorflow:global_step/sec: 1.93039\n",
      "    I0829 07:09:45.065379 140716473689920 basic_session_run_hooks.py:692] global_step/sec: 1.93039\n",
      "    INFO:tensorflow:loss = 1.9788758, step = 101 (51.804 sec)\n",
      "    I0829 07:09:45.066646 140716473689920 basic_session_run_hooks.py:260] loss = 1.9788758, step = 101 (51.804 sec)\n",
      "    INFO:tensorflow:Saving checkpoints for 200 into /tmp/tmpofr2r2nr/model.ckpt.\n",
      "    I0829 07:10:35.577588 140716473689920 basic_session_run_hooks.py:606] Saving checkpoints for 200 into /tmp/tmpofr2r2nr/model.ckpt.\n",
      "    INFO:tensorflow:Calling model_fn.\n",
      "    I0829 07:10:35.702507 140716473689920 estimator.py:1148] Calling model_fn.\n",
      "    WARNING:tensorflow:From /app/mnist.py:137: The name tf.metrics.accuracy is deprecated. Please use tf.compat.v1.metrics.accuracy instead.\n",
      "    \n",
      "    W0829 07:10:35.800792 140716473689920 module_wrapper.py:139] From /app/mnist.py:137: The name tf.metrics.accuracy is deprecated. Please use tf.compat.v1.metrics.accuracy instead.\n",
      "    \n",
      "    INFO:tensorflow:Done calling model_fn.\n",
      "    I0829 07:10:35.816635 140716473689920 estimator.py:1150] Done calling model_fn.\n",
      "    INFO:tensorflow:Starting evaluation at 2020-08-29T07:10:35Z\n",
      "    I0829 07:10:35.837924 140716473689920 evaluation.py:255] Starting evaluation at 2020-08-29T07:10:35Z\n",
      "    INFO:tensorflow:Graph was finalized.\n",
      "    I0829 07:10:36.020250 140716473689920 monitored_session.py:240] Graph was finalized.\n",
      "    INFO:tensorflow:Restoring parameters from /tmp/tmpofr2r2nr/model.ckpt-200\n",
      "    I0829 07:10:36.022113 140716473689920 saver.py:1284] Restoring parameters from /tmp/tmpofr2r2nr/model.ckpt-200\n",
      "    INFO:tensorflow:Running local_init_op.\n",
      "    I0829 07:10:36.077548 140716473689920 session_manager.py:500] Running local_init_op.\n",
      "    INFO:tensorflow:Done running local_init_op.\n",
      "    I0829 07:10:36.089962 140716473689920 session_manager.py:502] Done running local_init_op.\n",
      "    INFO:tensorflow:Evaluation [1/1]\n",
      "    I0829 07:10:36.270262 140716473689920 evaluation.py:167] Evaluation [1/1]\n",
      "    INFO:tensorflow:Finished evaluation at 2020-08-29-07:10:36\n",
      "    I0829 07:10:36.426982 140716473689920 evaluation.py:275] Finished evaluation at 2020-08-29-07:10:36\n",
      "    INFO:tensorflow:Saving dict for global step 200: accuracy = 0.8125, global_step = 200, loss = 0.7827995\n",
      "    I0829 07:10:36.427367 140716473689920 estimator.py:2049] Saving dict for global step 200: accuracy = 0.8125, global_step = 200, loss = 0.7827995\n",
      "    INFO:tensorflow:Saving 'checkpoint_path' summary for global step 200: /tmp/tmpofr2r2nr/model.ckpt-200\n",
      "    I0829 07:10:36.465804 140716473689920 estimator.py:2109] Saving 'checkpoint_path' summary for global step 200: /tmp/tmpofr2r2nr/model.ckpt-200\n",
      "    INFO:tensorflow:Performing the final export in the end of training.\n",
      "    I0829 07:10:36.466874 140716473689920 exporter.py:410] Performing the final export in the end of training.\n",
      "    WARNING:tensorflow:From /app/mnist.py:145: The name tf.placeholder is deprecated. Please use tf.compat.v1.placeholder instead.\n",
      "    \n",
      "    W0829 07:10:36.472626 140716473689920 module_wrapper.py:139] From /app/mnist.py:145: The name tf.placeholder is deprecated. Please use tf.compat.v1.placeholder instead.\n",
      "    \n",
      "    INFO:tensorflow:Calling model_fn.\n",
      "    I0829 07:10:36.473789 140716473689920 estimator.py:1148] Calling model_fn.\n",
      "    INFO:tensorflow:Done calling model_fn.\n",
      "    I0829 07:10:36.552925 140716473689920 estimator.py:1150] Done calling model_fn.\n",
      "    WARNING:tensorflow:From /usr/local/lib/python3.6/dist-packages/tensorflow_core/python/saved_model/signature_def_utils_impl.py:201: build_tensor_info (from tensorflow.python.saved_model.utils_impl) is deprecated and will be removed in a future version.\n",
      "    Instructions for updating:\n",
      "    This function will only be available through the v1 compatibility library as tf.compat.v1.saved_model.utils.build_tensor_info or tf.compat.v1.saved_model.build_tensor_info.\n",
      "    W0829 07:10:36.553324 140716473689920 deprecation.py:323] From /usr/local/lib/python3.6/dist-packages/tensorflow_core/python/saved_model/signature_def_utils_impl.py:201: build_tensor_info (from tensorflow.python.saved_model.utils_impl) is deprecated and will be removed in a future version.\n",
      "    Instructions for updating:\n",
      "    This function will only be available through the v1 compatibility library as tf.compat.v1.saved_model.utils.build_tensor_info or tf.compat.v1.saved_model.build_tensor_info.\n",
      "    INFO:tensorflow:Signatures INCLUDED in export for Classify: None\n",
      "    I0829 07:10:36.553895 140716473689920 export_utils.py:170] Signatures INCLUDED in export for Classify: None\n",
      "    INFO:tensorflow:Signatures INCLUDED in export for Regress: None\n",
      "    I0829 07:10:36.554036 140716473689920 export_utils.py:170] Signatures INCLUDED in export for Regress: None\n",
      "    INFO:tensorflow:Signatures INCLUDED in export for Predict: ['classes', 'serving_default']\n",
      "    I0829 07:10:36.554158 140716473689920 export_utils.py:170] Signatures INCLUDED in export for Predict: ['classes', 'serving_default']\n",
      "    INFO:tensorflow:Signatures INCLUDED in export for Train: None\n",
      "    I0829 07:10:36.554245 140716473689920 export_utils.py:170] Signatures INCLUDED in export for Train: None\n",
      "    INFO:tensorflow:Signatures INCLUDED in export for Eval: None\n",
      "    I0829 07:10:36.554326 140716473689920 export_utils.py:170] Signatures INCLUDED in export for Eval: None\n",
      "    INFO:tensorflow:Restoring parameters from /tmp/tmpofr2r2nr/model.ckpt-200\n",
      "    I0829 07:10:36.578255 140716473689920 saver.py:1284] Restoring parameters from /tmp/tmpofr2r2nr/model.ckpt-200\n",
      "    INFO:tensorflow:Assets added to graph.\n",
      "    I0829 07:10:36.607078 140716473689920 builder_impl.py:665] Assets added to graph.\n",
      "    INFO:tensorflow:No assets to write.\n",
      "    I0829 07:10:36.607400 140716473689920 builder_impl.py:460] No assets to write.\n",
      "    INFO:tensorflow:SavedModel written to: /tmp/tmpofr2r2nr/export/mnist/temp-b'1598685036'/saved_model.pb\n",
      "    I0829 07:10:36.652747 140716473689920 builder_impl.py:425] SavedModel written to: /tmp/tmpofr2r2nr/export/mnist/temp-b'1598685036'/saved_model.pb\n",
      "    INFO:tensorflow:Loss for final step: 0.89124113.\n",
      "    I0829 07:10:36.690771 140716473689920 estimator.py:371] Loss for final step: 0.89124113.\n",
      "    WARNING:tensorflow:From /app/mnist.py:232: Estimator.export_savedmodel (from tensorflow_estimator.python.estimator.estimator) is deprecated and will be removed in a future version.\n",
      "    Instructions for updating:\n",
      "    This function has been renamed, use `export_saved_model` instead.\n",
      "    W0829 07:10:36.691780 140716473689920 deprecation.py:323] From /app/mnist.py:232: Estimator.export_savedmodel (from tensorflow_estimator.python.estimator.estimator) is deprecated and will be removed in a future version.\n",
      "    Instructions for updating:\n",
      "    This function has been renamed, use `export_saved_model` instead.\n",
      "    INFO:tensorflow:Calling model_fn.\n",
      "    I0829 07:10:36.701212 140716473689920 estimator.py:1148] Calling model_fn.\n",
      "    INFO:tensorflow:Done calling model_fn.\n",
      "    I0829 07:10:36.874090 140716473689920 estimator.py:1150] Done calling model_fn.\n",
      "    INFO:tensorflow:Signatures INCLUDED in export for Classify: None\n",
      "    I0829 07:10:36.874665 140716473689920 export_utils.py:170] Signatures INCLUDED in export for Classify: None\n",
      "    INFO:tensorflow:Signatures INCLUDED in export for Regress: None\n",
      "    I0829 07:10:36.874817 140716473689920 export_utils.py:170] Signatures INCLUDED in export for Regress: None\n",
      "    INFO:tensorflow:Signatures INCLUDED in export for Predict: ['classes', 'serving_default']\n",
      "    I0829 07:10:36.874911 140716473689920 export_utils.py:170] Signatures INCLUDED in export for Predict: ['classes', 'serving_default']\n",
      "    INFO:tensorflow:Signatures INCLUDED in export for Train: None\n",
      "    I0829 07:10:36.874989 140716473689920 export_utils.py:170] Signatures INCLUDED in export for Train: None\n",
      "    INFO:tensorflow:Signatures INCLUDED in export for Eval: None\n",
      "    I0829 07:10:36.875088 140716473689920 export_utils.py:170] Signatures INCLUDED in export for Eval: None\n",
      "    INFO:tensorflow:Restoring parameters from /tmp/tmpofr2r2nr/model.ckpt-200\n",
      "    I0829 07:10:36.897649 140716473689920 saver.py:1284] Restoring parameters from /tmp/tmpofr2r2nr/model.ckpt-200\n",
      "    INFO:tensorflow:Assets added to graph.\n",
      "    I0829 07:10:36.922809 140716473689920 builder_impl.py:665] Assets added to graph.\n",
      "    INFO:tensorflow:No assets to write.\n",
      "    I0829 07:10:36.923094 140716473689920 builder_impl.py:460] No assets to write.\n",
      "    INFO:tensorflow:SavedModel written to: /mnt/export/mnist/temp-b'1598685036'/saved_model.pb\n",
      "    I0829 07:10:36.969903 140716473689920 builder_impl.py:425] SavedModel written to: /mnt/export/mnist/temp-b'1598685036'/saved_model.pb\n",
      "    Successfully downloaded train-images-idx3-ubyte.gz 9912422 bytes.\n",
      "    Extracting /tmp/data/train-images-idx3-ubyte.gz\n",
      "    Successfully downloaded train-labels-idx1-ubyte.gz 28881 bytes.\n",
      "    Extracting /tmp/data/train-labels-idx1-ubyte.gz\n",
      "    Successfully downloaded t10k-images-idx3-ubyte.gz 1648877 bytes.\n",
      "    Extracting /tmp/data/t10k-images-idx3-ubyte.gz\n",
      "    Successfully downloaded t10k-labels-idx1-ubyte.gz 4542 bytes.\n",
      "    Extracting /tmp/data/t10k-labels-idx1-ubyte.gz\n",
      "    Train and evaluate\n",
      "    Training done\n",
      "    Export saved model\n",
      "    Done exporting the model: mnist/\n",
      "    \n"
     ]
    }
   ],
   "source": [
    "tfjob_client.get_logs(tfjob_name, namespace=my_namespace)"
   ]
  },
  {
   "cell_type": "code",
   "execution_count": 23,
   "metadata": {},
   "outputs": [
    {
     "name": "stdout",
     "output_type": "stream",
     "text": [
      "<kubeflow.fairing.deployers.kfserving.kfserving.KFServing object at 0x7f9a8c738438>\n",
      "{'api_version': 'serving.kubeflow.org/v1alpha2',\n",
      " 'kind': 'InferenceService',\n",
      " 'metadata': {'annotations': None,\n",
      "              'cluster_name': None,\n",
      "              'creation_timestamp': None,\n",
      "              'deletion_grace_period_seconds': None,\n",
      "              'deletion_timestamp': None,\n",
      "              'finalizers': None,\n",
      "              'generate_name': 'fairing-kfserving-',\n",
      "              'generation': None,\n",
      "              'initializers': None,\n",
      "              'labels': None,\n",
      "              'managed_fields': None,\n",
      "              'name': 'mnist-service-2397',\n",
      "              'namespace': 'admin',\n",
      "              'owner_references': None,\n",
      "              'resource_version': None,\n",
      "              'self_link': None,\n",
      "              'uid': None},\n",
      " 'spec': {'canary': None,\n",
      "          'canary_traffic_percent': 0,\n",
      "          'default': {'explainer': None,\n",
      "                      'predictor': {'batcher': None,\n",
      "                                    'custom': None,\n",
      "                                    'logger': None,\n",
      "                                    'max_replicas': None,\n",
      "                                    'min_replicas': None,\n",
      "                                    'onnx': None,\n",
      "                                    'parallelism': None,\n",
      "                                    'pytorch': None,\n",
      "                                    'service_account_name': None,\n",
      "                                    'sklearn': None,\n",
      "                                    'tensorflow': {'resources': None,\n",
      "                                                   'runtime_version': None,\n",
      "                                                   'storage_uri': 'pvc://mnist-pvc/export'},\n",
      "                                    'triton': None,\n",
      "                                    'xgboost': None},\n",
      "                      'transformer': None}},\n",
      " 'status': None}\n",
      "NAME                 READY      DEFAULT_TRAFFIC CANARY_TRAFFIC  URL                                               \n",
      "mnist-service-2397   Unknown                                                                                      \n",
      "mnist-service-2397   False                                                                                        \n",
      "mnist-service-2397   False                                                                                        \n"
     ]
    },
    {
     "name": "stderr",
     "output_type": "stream",
     "text": [
      "[I 200829 07:20:39 kfserving:127] Deployed the InferenceService mnist-service-2397 successfully.\n"
     ]
    },
    {
     "data": {
      "text/plain": [
       "'mnist-service-2397'"
      ]
     },
     "execution_count": 23,
     "metadata": {},
     "output_type": "execute_result"
    }
   ],
   "source": [
    "from kubeflow.fairing.deployers.kfserving.kfserving import KFServing\n",
    "isvc_name = f'mnist-service-{uuid.uuid4().hex[:4]}'\n",
    "isvc = KFServing('tensorflow', namespace=my_namespace, isvc_name=isvc_name,\n",
    "                 default_storage_uri='pvc://' + pvc_name + '/export')\n",
    "print(isvc)\n",
    "print(isvc.generate_isvc())\n",
    "isvc.deploy(isvc.generate_isvc())"
   ]
  },
  {
   "cell_type": "code",
   "execution_count": 24,
   "metadata": {},
   "outputs": [
    {
     "data": {
      "text/plain": [
       "{'apiVersion': 'serving.kubeflow.org/v1alpha2',\n",
       " 'items': [{'apiVersion': 'serving.kubeflow.org/v1alpha2',\n",
       "   'kind': 'InferenceService',\n",
       "   'metadata': {'creationTimestamp': '2020-08-29T07:10:39Z',\n",
       "    'generateName': 'fairing-kfserving-',\n",
       "    'generation': 1,\n",
       "    'name': 'mnist-service-2397',\n",
       "    'namespace': 'admin',\n",
       "    'resourceVersion': '27891',\n",
       "    'selfLink': '/apis/serving.kubeflow.org/v1alpha2/namespaces/admin/inferenceservices/mnist-service-2397',\n",
       "    'uid': 'ae4c93fa-819b-4b05-8e73-23aefa86ae69'},\n",
       "   'spec': {'default': {'predictor': {'tensorflow': {'resources': {'limits': {'cpu': '1',\n",
       "         'memory': '2Gi'},\n",
       "        'requests': {'cpu': '1', 'memory': '2Gi'}},\n",
       "       'runtimeVersion': '1.14.0',\n",
       "       'storageUri': 'pvc://mnist-pvc/export'}}}},\n",
       "   'status': {'canary': {},\n",
       "    'conditions': [{'lastTransitionTime': '2020-08-29T07:10:41Z',\n",
       "      'message': 'Configuration \"mnist-service-2397-predictor-default\" is waiting for a Revision to become ready.',\n",
       "      'reason': 'RevisionMissing',\n",
       "      'status': 'Unknown',\n",
       "      'type': 'DefaultPredictorReady'},\n",
       "     {'lastTransitionTime': '2020-08-29T07:10:39Z',\n",
       "      'message': 'Failed to reconcile predictor',\n",
       "      'reason': 'PredictorHostnameUnknown',\n",
       "      'status': 'False',\n",
       "      'type': 'Ready'},\n",
       "     {'lastTransitionTime': '2020-08-29T07:10:39Z',\n",
       "      'message': 'Failed to reconcile predictor',\n",
       "      'reason': 'PredictorHostnameUnknown',\n",
       "      'status': 'False',\n",
       "      'type': 'RoutesReady'}],\n",
       "    'default': {'predictor': {'name': 'mnist-service-2397-predictor-default-bqz9f'}}}}],\n",
       " 'kind': 'InferenceServiceList',\n",
       " 'metadata': {'continue': '',\n",
       "  'resourceVersion': '31263',\n",
       "  'selfLink': '/apis/serving.kubeflow.org/v1alpha2/namespaces/admin/inferenceservices'}}"
      ]
     },
     "execution_count": 24,
     "metadata": {},
     "output_type": "execute_result"
    }
   ],
   "source": [
    "from kfserving import KFServingClient\n",
    "kfserving_client = KFServingClient()\n",
    "kfserving_client.get(namespace=my_namespace)"
   ]
  },
  {
   "cell_type": "code",
   "execution_count": 25,
   "metadata": {},
   "outputs": [
    {
     "name": "stdout",
     "output_type": "stream",
     "text": [
      "MNIST Service Endpoint: \n"
     ]
    }
   ],
   "source": [
    "mnist_isvc = kfserving_client.get(isvc_name, namespace=my_namespace)\n",
    "mnist_isvc_name = mnist_isvc['metadata']['name']\n",
    "mnist_isvc_endpoint = mnist_isvc['status'].get('url', '')\n",
    "print(\"MNIST Service Endpoint: \" + mnist_isvc_endpoint)"
   ]
  },
  {
   "cell_type": "code",
   "execution_count": 29,
   "metadata": {},
   "outputs": [
    {
     "name": "stdout",
     "output_type": "stream",
     "text": [
      "ISTIO_CLUSTER_IP => Error from server (Forbidden): services \"istio-ingressgateway\" is forbidden: User \"system:serviceaccount:admin:default-editor\" cannot get resource \"services\" in API group \"\" in the namespace \"istio-system\"\n",
      "/bin/sh: 1: Syntax error: \"(\" unexpected\n"
     ]
    }
   ],
   "source": [
    "#ISTIO_CLUSTER_IP=!kubectl -n istio-system get service istio-ingressgateway -o jsonpath='{.spec.clusterIP}'\n",
    "#print(\"ISTIO_CLUSTER_IP => \" + ISTIO_CLUSTER_IP[0])\n",
    "#CLUSTER_IP=ISTIO_CLUSTER_IP[0]\n",
    "CLUSTER_IP=\"10.99.127.209\"\n",
    "MODEL_HOST=f\"Host: {mnist_isvc_name}.{my_namespace}.svc.cluster.local\"\n",
    "#MODEL_HOST=f\"Host: mnist-service-f761.admin.nip.io\"\n",
    "#!curl -v -H \"{MODEL_HOST}\" http://{CLUSTER_IP}/v1/models/{mnist_isvc_name}:predict -d @./input.json\n",
    "!curl -v -H \"{MODEL_HOST}\" http://{CLUSTER_IP}/v1/models/{mnist_isvc_name}:predict -d @./input.json"
   ]
  },
  {
   "cell_type": "code",
   "execution_count": 27,
   "metadata": {},
   "outputs": [
    {
     "data": {
      "text/plain": [
       "{'kind': 'Status',\n",
       " 'apiVersion': 'v1',\n",
       " 'metadata': {},\n",
       " 'status': 'Success',\n",
       " 'details': {'name': 'mnist-training-0784',\n",
       "  'group': 'kubeflow.org',\n",
       "  'kind': 'tfjobs',\n",
       "  'uid': '839fdf24-c77d-4984-8c70-5a08add868ad'}}"
      ]
     },
     "execution_count": 27,
     "metadata": {},
     "output_type": "execute_result"
    }
   ],
   "source": [
    "tfjob_client.delete(tfjob_name, namespace=my_namespace)"
   ]
  },
  {
   "cell_type": "code",
   "execution_count": 28,
   "metadata": {},
   "outputs": [
    {
     "data": {
      "text/plain": [
       "{'kind': 'Status',\n",
       " 'apiVersion': 'v1',\n",
       " 'metadata': {},\n",
       " 'status': 'Success',\n",
       " 'details': {'name': 'mnist-service-2397',\n",
       "  'group': 'serving.kubeflow.org',\n",
       "  'kind': 'inferenceservices',\n",
       "  'uid': 'ae4c93fa-819b-4b05-8e73-23aefa86ae69'}}"
      ]
     },
     "execution_count": 28,
     "metadata": {},
     "output_type": "execute_result"
    }
   ],
   "source": [
    "kfserving_client.delete(isvc_name, namespace=my_namespace)"
   ]
  },
  {
   "cell_type": "code",
   "execution_count": 30,
   "metadata": {},
   "outputs": [
    {
     "name": "stdout",
     "output_type": "stream",
     "text": [
      "Error from server (Forbidden): services \"istio-ingressgateway\" is forbidden: User \"system:serviceaccount:admin:default-editor\" cannot get resource \"services\" in API group \"\" in the namespace \"istio-system\"\n"
     ]
    }
   ],
   "source": [
    "!kubectl -n istio-system get service istio-ingressgateway -o jsonpath='{.spec.clusterIP}'"
   ]
  },
  {
   "cell_type": "code",
   "execution_count": null,
   "metadata": {},
   "outputs": [],
   "source": []
  }
 ],
 "metadata": {
  "kernelspec": {
   "display_name": "Python 3",
   "language": "python",
   "name": "python3"
  },
  "language_info": {
   "codemirror_mode": {
    "name": "ipython",
    "version": 3
   },
   "file_extension": ".py",
   "mimetype": "text/x-python",
   "name": "python",
   "nbconvert_exporter": "python",
   "pygments_lexer": "ipython3",
   "version": "3.6.8"
  }
 },
 "nbformat": 4,
 "nbformat_minor": 4
}
