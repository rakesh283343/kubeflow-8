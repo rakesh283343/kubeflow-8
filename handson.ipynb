{
 "cells": [
  {
   "cell_type": "code",
   "execution_count": 1,
   "metadata": {},
   "outputs": [
    {
     "name": "stderr",
     "output_type": "stream",
     "text": [
      "/usr/local/lib/python3.6/dist-packages/tensorflow/python/framework/dtypes.py:526: FutureWarning: Passing (type, 1) or '1type' as a synonym of type is deprecated; in a future version of numpy, it will be understood as (type, (1,)) / '(1,)type'.\n",
      "  _np_qint8 = np.dtype([(\"qint8\", np.int8, 1)])\n",
      "/usr/local/lib/python3.6/dist-packages/tensorflow/python/framework/dtypes.py:527: FutureWarning: Passing (type, 1) or '1type' as a synonym of type is deprecated; in a future version of numpy, it will be understood as (type, (1,)) / '(1,)type'.\n",
      "  _np_quint8 = np.dtype([(\"quint8\", np.uint8, 1)])\n",
      "/usr/local/lib/python3.6/dist-packages/tensorflow/python/framework/dtypes.py:528: FutureWarning: Passing (type, 1) or '1type' as a synonym of type is deprecated; in a future version of numpy, it will be understood as (type, (1,)) / '(1,)type'.\n",
      "  _np_qint16 = np.dtype([(\"qint16\", np.int16, 1)])\n",
      "/usr/local/lib/python3.6/dist-packages/tensorflow/python/framework/dtypes.py:529: FutureWarning: Passing (type, 1) or '1type' as a synonym of type is deprecated; in a future version of numpy, it will be understood as (type, (1,)) / '(1,)type'.\n",
      "  _np_quint16 = np.dtype([(\"quint16\", np.uint16, 1)])\n",
      "/usr/local/lib/python3.6/dist-packages/tensorflow/python/framework/dtypes.py:530: FutureWarning: Passing (type, 1) or '1type' as a synonym of type is deprecated; in a future version of numpy, it will be understood as (type, (1,)) / '(1,)type'.\n",
      "  _np_qint32 = np.dtype([(\"qint32\", np.int32, 1)])\n",
      "/usr/local/lib/python3.6/dist-packages/tensorflow/python/framework/dtypes.py:535: FutureWarning: Passing (type, 1) or '1type' as a synonym of type is deprecated; in a future version of numpy, it will be understood as (type, (1,)) / '(1,)type'.\n",
      "  np_resource = np.dtype([(\"resource\", np.ubyte, 1)])\n"
     ]
    },
    {
     "name": "stdout",
     "output_type": "stream",
     "text": [
      "Downloading data from https://storage.googleapis.com/tensorflow/tf-keras-datasets/mnist.npz\n",
      "11493376/11490434 [==============================] - 1s 0us/step\n",
      "WARNING:tensorflow:From /usr/local/lib/python3.6/dist-packages/tensorflow/python/ops/resource_variable_ops.py:435: colocate_with (from tensorflow.python.framework.ops) is deprecated and will be removed in a future version.\n",
      "Instructions for updating:\n",
      "Colocations handled automatically by placer.\n",
      "WARNING:tensorflow:From /usr/local/lib/python3.6/dist-packages/tensorflow/python/keras/layers/core.py:143: calling dropout (from tensorflow.python.ops.nn_ops) with keep_prob is deprecated and will be removed in a future version.\n",
      "Instructions for updating:\n",
      "Please use `rate` instead of `keep_prob`. Rate should be set to `rate = 1 - keep_prob`.\n",
      "Epoch 1/5\n",
      "60000/60000 [==============================] - 8s 129us/sample - loss: 0.2984 - acc: 0.9129\n",
      "Epoch 2/5\n",
      "60000/60000 [==============================] - 8s 128us/sample - loss: 0.1431 - acc: 0.9568\n",
      "Epoch 3/5\n",
      "60000/60000 [==============================] - 8s 128us/sample - loss: 0.1075 - acc: 0.9678\n",
      "Epoch 4/5\n",
      "60000/60000 [==============================] - 8s 126us/sample - loss: 0.0874 - acc: 0.9735\n",
      "Epoch 5/5\n",
      "60000/60000 [==============================] - 8s 128us/sample - loss: 0.0754 - acc: 0.9765\n",
      " - 0s - loss: 0.0690 - acc: 0.9783\n"
     ]
    }
   ],
   "source": [
    "import tensorflow as tf\n",
    "\n",
    "class MyModel(object):\n",
    "  def train(self):\n",
    "    mnist = tf.keras.datasets.mnist\n",
    "\n",
    "    (x_train, y_train), (x_test, y_test) = mnist.load_data()\n",
    "    x_train, x_test = x_train / 255.0, x_test / 255.0\n",
    "\n",
    "    model = tf.keras.models.Sequential([\n",
    "      tf.keras.layers.Flatten(input_shape=(28, 28)),\n",
    "      tf.keras.layers.Dense(128, activation='relu'),\n",
    "      tf.keras.layers.Dropout(0.2),\n",
    "      tf.keras.layers.Dense(10, activation='softmax')\n",
    "    ])\n",
    "\n",
    "    model.compile(optimizer='adam',\n",
    "                  loss='sparse_categorical_crossentropy',\n",
    "                  metrics=['accuracy'])\n",
    "\n",
    "    model.fit(x_train, y_train, epochs=5)\n",
    "\n",
    "    model.evaluate(x_test,  y_test, verbose=2)\n",
    "\n",
    "if __name__ == '__main__':\n",
    "    local_train = MyModel()\n",
    "    local_train.train()"
   ]
  },
  {
   "cell_type": "code",
   "execution_count": 14,
   "metadata": {},
   "outputs": [
    {
     "name": "stderr",
     "output_type": "stream",
     "text": [
      "[I 200815 10:58:30 config:134] Using preprocessor: <kubeflow.fairing.preprocessors.function.FunctionPreProcessor object at 0x7f883b7742b0>\n",
      "[I 200815 10:58:30 config:136] Using builder: <kubeflow.fairing.builders.append.append.AppendBuilder object at 0x7f883addfb70>\n",
      "[I 200815 10:58:30 config:138] Using deployer: <kubeflow.fairing.deployers.job.job.Job object at 0x7f883b774668>\n",
      "[W 200815 10:58:30 append:50] Building image using Append builder...\n",
      "[I 200815 10:58:30 base:107] Creating docker context: /tmp/fairing_context_e9k0ned1\n",
      "[W 200815 10:58:30 base:94] /usr/local/lib/python3.6/dist-packages/kubeflow/fairing/__init__.py already exists in Fairing context, skipping...\n",
      "[I 200815 10:58:30 docker_creds_:234] Loading Docker credentials for repository 'brightfly/kubeflow-jupyter-lab:tf2.0-cpu'\n",
      "[W 200815 10:58:32 append:54] Image successfully built in 2.3234865829945193s.\n",
      "[W 200815 10:58:32 append:94] Pushing image index.docker.io/insoopark/katib-job:9364CBFE...\n",
      "[I 200815 10:58:32 docker_creds_:234] Loading Docker credentials for repository 'index.docker.io/insoopark/katib-job:9364CBFE'\n",
      "[W 200815 10:58:33 append:81] Uploading index.docker.io/insoopark/katib-job:9364CBFE\n",
      "[I 200815 10:58:36 docker_session_:284] Layer sha256:ee671aafb583e2321880e275c94d49a49185006730e871435cd851f42d2a775d pushed.\n",
      "[I 200815 10:58:36 docker_session_:284] Layer sha256:7acbfba21e38804c20c4da292d2f99d88d317b83440fb2f3de0a620edf2b9595 pushed.\n",
      "[I 200815 10:58:36 docker_session_:284] Layer sha256:6ac505cbabeccba798e608e1bb80ae66f497c2c856733800e1db060e3c875917 pushed.\n",
      "[I 200815 10:58:38 docker_session_:284] Layer sha256:50f1fe304a9431ea025aa6ee5e8e45826fa62640a83e55be8bd3c227119cbcd2 pushed.\n",
      "[I 200815 10:58:39 docker_session_:284] Layer sha256:66257906239d377cd700c566b27f12895ccefcd8d95eae7377f600208151d8e0 pushed.\n",
      "[I 200815 10:58:39 docker_session_:284] Layer sha256:fd781ca227d0199735cceb67afa81e2a073b5ef5867ca6e96ad46e002a03252a pushed.\n",
      "[I 200815 10:58:39 docker_session_:284] Layer sha256:485ea80d093de507a5ccd36effaf8dad03b67a1063edbd427fedfe667c9155bc pushed.\n",
      "[I 200815 10:58:41 docker_session_:284] Layer sha256:e81f1ac92eea7c7d08c793da823b6197af85e79d0b22c4c93a231bc23007ddfe pushed.\n",
      "[I 200815 10:58:41 docker_session_:284] Layer sha256:df80607e3e38dc3f117e967a36620c42f791afc9ca0568900d13d84c1e3a38bb pushed.\n",
      "[I 200815 10:58:43 docker_session_:284] Layer sha256:7fc152dfb3a6b5c9a436b49ff6cd72ed7eb5f1fd349128b50ee04c3c5c2355fb pushed.\n",
      "[I 200815 10:58:43 docker_session_:284] Layer sha256:1c60aaf19cc4c142934f390281975f61956475c205b5895711f839a91f927779 pushed.\n",
      "[I 200815 10:58:44 docker_session_:284] Layer sha256:069de100aaecb1299b09dab29a4eb39a2ca6a5f8c0a033b65ff0e15e9ea39a24 pushed.\n",
      "[I 200815 10:58:45 docker_session_:284] Layer sha256:aba1485319d4dbc9e11403852388062b5aae1ee9155e1c2deda186d848c492d5 pushed.\n",
      "[I 200815 10:58:46 docker_session_:284] Layer sha256:af228bb15b867acbee0d6df28dbb42a8218948fdde64833bd021a255a99a2690 pushed.\n",
      "[I 200815 10:58:46 docker_session_:284] Layer sha256:fb9676c4102241f220b864e98c53676e27c407c6ecfbb13c2cbc1fa4de8f1811 pushed.\n",
      "[I 200815 10:58:47 docker_session_:284] Layer sha256:872efc07c3d848e0f55b7cbce9866a8dea7b76d8c1f131801934ea0d856b15c5 pushed.\n",
      "[I 200815 10:58:47 docker_session_:284] Layer sha256:5667fdb72017d1fb364744ca1abf7b6f3bbe9c98c3786f294a461c2866db69ab pushed.\n",
      "[I 200815 10:58:48 docker_session_:284] Layer sha256:8f64ecfab6c102a62dd5d912d96113603663ad8b436701bf2dbd1aa9630882e7 pushed.\n",
      "[I 200815 10:58:48 docker_session_:284] Layer sha256:d846ead9aa38bc0d35dd500ada5349fe42efb96c89db08b8abcb9ad949332c2a pushed.\n",
      "[I 200815 10:58:49 docker_session_:284] Layer sha256:d83811f270d56d34a208f721f3dbf1b9242d1900ad8981fc7071339681998a31 pushed.\n",
      "[I 200815 10:58:51 docker_session_:284] Layer sha256:d0d480fe0d0ab233a90471379d9d3789d4153ad4611d101cfefdfc0c507d9356 pushed.\n",
      "[I 200815 10:58:52 docker_session_:284] Layer sha256:8e7d3ffcd500d3ed0b2ee2449a36a44601b8e282cc6d541ab93f1189d4a2cf93 pushed.\n",
      "[I 200815 10:58:53 docker_session_:284] Layer sha256:c2f81144f815902f9c6e6f7883068544e35924f0efe2275bc41c3d0c558f394c pushed.\n",
      "[I 200815 10:58:54 docker_session_:334] Finished upload of: index.docker.io/insoopark/katib-job:9364CBFE\n",
      "[W 200815 10:58:54 append:99] Pushed image index.docker.io/insoopark/katib-job:9364CBFE in 21.103018504996726s.\n",
      "[W 200815 10:58:54 job:101] The job fairing-job-z4bqr launched.\n",
      "[W 200815 10:58:54 manager:298] Waiting for fairing-job-z4bqr-8r9jn to start...\n",
      "[W 200815 10:58:54 manager:298] Waiting for fairing-job-z4bqr-8r9jn to start...\n",
      "[W 200815 10:58:54 manager:298] Waiting for fairing-job-z4bqr-8r9jn to start...\n",
      "[I 200815 11:00:27 manager:304] Pod started running True\n"
     ]
    },
    {
     "name": "stdout",
     "output_type": "stream",
     "text": [
      "2020-08-15 11:00:29.374032: I tensorflow/core/platform/cpu_feature_guard.cc:142] Your CPU supports instructions that this TensorFlow binary was not compiled to use: AVX2 AVX512F FMA\n",
      "2020-08-15 11:00:29.384797: I tensorflow/core/platform/profile_utils/cpu_utils.cc:94] CPU Frequency: 2000110000 Hz\n",
      "2020-08-15 11:00:29.386765: I tensorflow/compiler/xla/service/service.cc:168] XLA service 0x46a9800 executing computations on platform Host. Devices:\n",
      "2020-08-15 11:00:29.387044: I tensorflow/compiler/xla/service/service.cc:175]   StreamExecutor device (0): Host, Default Version\n",
      "fairing-job-z4bqr-8r9jn\n"
     ]
    },
    {
     "name": "stderr",
     "output_type": "stream",
     "text": [
      "[W 200815 11:00:30 job:173] Cleaning up job fairing-job-z4bqr...\n"
     ]
    }
   ],
   "source": [
    "import os\n",
    "import tensorflow as tf\n",
    "\n",
    "class MyModel(object):\n",
    "  def train(self):\n",
    "    mnist = tf.keras.datasets.mnist\n",
    "\n",
    "    (x_train, y_train), (x_test, y_test) = mnist.load_data()\n",
    "    x_train, x_test = x_train / 255.0, x_test / 255.0\n",
    "\n",
    "    model = tf.keras.models.Sequential([\n",
    "      tf.keras.layers.Flatten(input_shape=(28, 28)),\n",
    "      tf.keras.layers.Dense(128, activation='relu'),\n",
    "      tf.keras.layers.Dropout(0.2),\n",
    "      tf.keras.layers.Dense(10, activation='softmax')\n",
    "    ])\n",
    "\n",
    "    model.compile(optimizer='adam',\n",
    "                  loss='sparse_categorical_crossentropy',\n",
    "                  metrics=['accuracy'])\n",
    "\n",
    "    model.fit(x_train, y_train, epochs=5)\n",
    "\n",
    "    model.evaluate(x_test,  y_test, verbose=2)\n",
    "\n",
    "if __name__ == '__main__':\n",
    "    if os.getenv('FAIRING_RUNTIME', None) is None:\n",
    "        from kubeflow import fairing\n",
    "        from kubeflow.fairing.kubernetes import utils as k8s_utils\n",
    "\n",
    "        # DOCKER_REGISTRY = 'kubeflow-registry.default.svc.cluster.local:30000'\n",
    "        DOCKER_REGISTRY = 'index.docker.io/insoopark'\n",
    "        fairing.config.set_builder(\n",
    "            'append',\n",
    "            image_name='katib-job',\n",
    "            base_image='brightfly/kubeflow-jupyter-lab:tf2.0-cpu',\n",
    "            registry=DOCKER_REGISTRY, \n",
    "            push=True)\n",
    "        # cpu 2, memory 4GiB\n",
    "        fairing.config.set_deployer('job',\n",
    "                                    namespace='admin',\n",
    "                                    pod_spec_mutators=[\n",
    "                                        k8s_utils.get_resource_mutator(cpu=2,\n",
    "                                                                       memory=4)]\n",
    "         \n",
    "                                   )\n",
    "        # python3         \n",
    "        # fairing.config.set_preprocessor('python', input_files=[__file__])\n",
    "        fairing.config.run()\n",
    "    else:\n",
    "        remote_train = MyModel()\n",
    "        remote_train.train()"
   ]
  },
  {
   "cell_type": "code",
   "execution_count": 2,
   "metadata": {},
   "outputs": [
    {
     "name": "stdout",
     "output_type": "stream",
     "text": [
      "Requirement already satisfied: kubeflow-fairing in /usr/local/lib/python3.6/dist-packages (1.0.1)\n",
      "Requirement already satisfied: google-api-python-client>=1.7.8 in /usr/local/lib/python3.6/dist-packages (from kubeflow-fairing) (1.10.0)\n",
      "Requirement already satisfied: six>=1.11.0 in /usr/lib/python3/dist-packages (from kubeflow-fairing) (1.11.0)\n",
      "Requirement already satisfied: kubeflow-tfjob>=0.1.1 in /usr/local/lib/python3.6/dist-packages (from kubeflow-fairing) (0.1.3)\n",
      "Requirement already satisfied: nbconvert>=5.6.1 in /usr/local/lib/python3.6/dist-packages (from kubeflow-fairing) (5.6.1)\n",
      "Requirement already satisfied: python-dateutil<=2.8.0,>=2.1 in /usr/local/lib/python3.6/dist-packages (from kubeflow-fairing) (2.8.0)\n",
      "Requirement already satisfied: google-cloud-logging>=1.13.0 in /usr/local/lib/python3.6/dist-packages (from kubeflow-fairing) (1.15.1)\n",
      "Requirement already satisfied: future>=0.17.1 in /usr/local/lib/python3.6/dist-packages (from kubeflow-fairing) (0.18.2)\n",
      "Requirement already satisfied: google-auth>=1.6.2 in /usr/local/lib/python3.6/dist-packages (from kubeflow-fairing) (1.20.1)\n",
      "Requirement already satisfied: azure-storage-file>=2.1.0 in /usr/local/lib/python3.6/dist-packages (from kubeflow-fairing) (2.1.0)\n",
      "Requirement already satisfied: google-cloud-storage>=1.13.2 in /usr/local/lib/python3.6/dist-packages (from kubeflow-fairing) (1.30.0)\n",
      "Requirement already satisfied: httplib2>=0.12.0 in /usr/local/lib/python3.6/dist-packages (from kubeflow-fairing) (0.18.1)\n",
      "Requirement already satisfied: numpy>=1.17.3 in /usr/local/lib/python3.6/dist-packages (from kubeflow-fairing) (1.19.1)\n",
      "Requirement already satisfied: requests<2.23,>=2.21.0 in /usr/local/lib/python3.6/dist-packages (from kubeflow-fairing) (2.22.0)\n",
      "Requirement already satisfied: docker>=3.4.1 in /usr/local/lib/python3.6/dist-packages (from kubeflow-fairing) (4.3.0)\n",
      "Requirement already satisfied: oauth2client>=4.0.0 in /usr/local/lib/python3.6/dist-packages (from kubeflow-fairing) (4.1.3)\n",
      "Requirement already satisfied: boto3>=1.9.0 in /usr/local/lib/python3.6/dist-packages (from kubeflow-fairing) (1.14.43)\n",
      "Requirement already satisfied: urllib3==1.24.2 in /usr/local/lib/python3.6/dist-packages (from kubeflow-fairing) (1.24.2)\n",
      "Requirement already satisfied: grpcio>=1.27.2 in /usr/local/lib/python3.6/dist-packages (from kubeflow-fairing) (1.31.0)\n",
      "Requirement already satisfied: tornado>=6.0.1 in /usr/local/lib/python3.6/dist-packages (from kubeflow-fairing) (6.0.3)\n",
      "Requirement already satisfied: kubeflow-pytorchjob>=0.1.1 in /usr/local/lib/python3.6/dist-packages (from kubeflow-fairing) (0.1.3)\n",
      "Requirement already satisfied: retrying>=1.3.3 in /usr/local/lib/python3.6/dist-packages (from kubeflow-fairing) (1.3.3)\n",
      "Requirement already satisfied: kubernetes==10.0.1 in /usr/local/lib/python3.6/dist-packages (from kubeflow-fairing) (10.0.1)\n",
      "Requirement already satisfied: cloudpickle<=1.4.1,>=0.8 in /usr/local/lib/python3.6/dist-packages (from kubeflow-fairing) (1.4.1)\n",
      "Requirement already satisfied: setuptools>=34.0.0 in /usr/local/lib/python3.6/dist-packages (from kubeflow-fairing) (41.0.1)\n",
      "Requirement already satisfied: notebook>=5.6.0 in /usr/local/lib/python3.6/dist-packages (from kubeflow-fairing) (6.0.0)\n",
      "Requirement already satisfied: ibm-cos-sdk>=2.6.0 in /usr/local/lib/python3.6/dist-packages (from kubeflow-fairing) (2.7.0)\n",
      "Requirement already satisfied: kfserving>=0.3.0.2 in /usr/local/lib/python3.6/dist-packages (from kubeflow-fairing) (0.4.0)\n",
      "Requirement already satisfied: azure-mgmt-storage>=9.0.0 in /usr/local/lib/python3.6/dist-packages (from kubeflow-fairing) (11.1.0)\n",
      "Requirement already satisfied: uritemplate<4dev,>=3.0.0 in /usr/local/lib/python3.6/dist-packages (from google-api-python-client>=1.7.8->kubeflow-fairing) (3.0.1)\n",
      "Requirement already satisfied: google-api-core<2dev,>=1.18.0 in /usr/local/lib/python3.6/dist-packages (from google-api-python-client>=1.7.8->kubeflow-fairing) (1.22.1)\n",
      "Requirement already satisfied: google-auth-httplib2>=0.0.3 in /usr/local/lib/python3.6/dist-packages (from google-api-python-client>=1.7.8->kubeflow-fairing) (0.0.4)\n",
      "Requirement already satisfied: certifi>=14.05.14 in /usr/local/lib/python3.6/dist-packages (from kubeflow-tfjob>=0.1.1->kubeflow-fairing) (2020.6.20)\n",
      "Requirement already satisfied: table-logger>=0.3.5 in /usr/local/lib/python3.6/dist-packages (from kubeflow-tfjob>=0.1.1->kubeflow-fairing) (0.3.6)\n",
      "Requirement already satisfied: pandocfilters>=1.4.1 in /usr/local/lib/python3.6/dist-packages (from nbconvert>=5.6.1->kubeflow-fairing) (1.4.2)\n",
      "Requirement already satisfied: jinja2>=2.4 in /usr/local/lib/python3.6/dist-packages (from nbconvert>=5.6.1->kubeflow-fairing) (2.10.1)\n",
      "Requirement already satisfied: bleach in /usr/local/lib/python3.6/dist-packages (from nbconvert>=5.6.1->kubeflow-fairing) (3.1.0)\n",
      "Requirement already satisfied: traitlets>=4.2 in /usr/local/lib/python3.6/dist-packages (from nbconvert>=5.6.1->kubeflow-fairing) (4.3.2)\n",
      "Requirement already satisfied: nbformat>=4.4 in /usr/local/lib/python3.6/dist-packages (from nbconvert>=5.6.1->kubeflow-fairing) (4.4.0)\n",
      "Requirement already satisfied: testpath in /usr/local/lib/python3.6/dist-packages (from nbconvert>=5.6.1->kubeflow-fairing) (0.4.2)\n",
      "Requirement already satisfied: defusedxml in /usr/local/lib/python3.6/dist-packages (from nbconvert>=5.6.1->kubeflow-fairing) (0.6.0)\n",
      "Requirement already satisfied: jupyter-core in /usr/local/lib/python3.6/dist-packages (from nbconvert>=5.6.1->kubeflow-fairing) (4.5.0)\n",
      "Requirement already satisfied: entrypoints>=0.2.2 in /usr/local/lib/python3.6/dist-packages (from nbconvert>=5.6.1->kubeflow-fairing) (0.3)\n",
      "Requirement already satisfied: mistune<2,>=0.8.1 in /usr/local/lib/python3.6/dist-packages (from nbconvert>=5.6.1->kubeflow-fairing) (0.8.4)\n",
      "Requirement already satisfied: pygments in /usr/local/lib/python3.6/dist-packages (from nbconvert>=5.6.1->kubeflow-fairing) (2.4.2)\n",
      "Requirement already satisfied: google-cloud-core<2.0dev,>=1.1.0 in /usr/local/lib/python3.6/dist-packages (from google-cloud-logging>=1.13.0->kubeflow-fairing) (1.4.1)\n",
      "Requirement already satisfied: cachetools<5.0,>=2.0.0 in /usr/local/lib/python3.6/dist-packages (from google-auth>=1.6.2->kubeflow-fairing) (4.1.1)\n",
      "Requirement already satisfied: rsa<5,>=3.1.4; python_version >= \"3.5\" in /usr/local/lib/python3.6/dist-packages (from google-auth>=1.6.2->kubeflow-fairing) (4.6)\n",
      "Requirement already satisfied: pyasn1-modules>=0.2.1 in /usr/local/lib/python3.6/dist-packages (from google-auth>=1.6.2->kubeflow-fairing) (0.2.8)\n",
      "Requirement already satisfied: azure-storage-common~=2.1 in /usr/local/lib/python3.6/dist-packages (from azure-storage-file>=2.1.0->kubeflow-fairing) (2.1.0)\n",
      "Requirement already satisfied: azure-common>=1.1.5 in /usr/local/lib/python3.6/dist-packages (from azure-storage-file>=2.1.0->kubeflow-fairing) (1.1.25)\n",
      "Requirement already satisfied: google-resumable-media<2.0dev,>=0.6.0 in /usr/local/lib/python3.6/dist-packages (from google-cloud-storage>=1.13.2->kubeflow-fairing) (0.7.1)\n",
      "Requirement already satisfied: idna<2.9,>=2.5 in /usr/lib/python3/dist-packages (from requests<2.23,>=2.21.0->kubeflow-fairing) (2.6)\n",
      "Requirement already satisfied: chardet<3.1.0,>=3.0.2 in /usr/local/lib/python3.6/dist-packages (from requests<2.23,>=2.21.0->kubeflow-fairing) (3.0.4)\n",
      "Requirement already satisfied: websocket-client>=0.32.0 in /usr/local/lib/python3.6/dist-packages (from docker>=3.4.1->kubeflow-fairing) (0.57.0)\n",
      "Requirement already satisfied: pyasn1>=0.1.7 in /usr/local/lib/python3.6/dist-packages (from oauth2client>=4.0.0->kubeflow-fairing) (0.4.8)\n",
      "Requirement already satisfied: s3transfer<0.4.0,>=0.3.0 in /usr/local/lib/python3.6/dist-packages (from boto3>=1.9.0->kubeflow-fairing) (0.3.3)\n",
      "Requirement already satisfied: botocore<1.18.0,>=1.17.43 in /usr/local/lib/python3.6/dist-packages (from boto3>=1.9.0->kubeflow-fairing) (1.17.43)\n",
      "Requirement already satisfied: jmespath<1.0.0,>=0.7.1 in /usr/local/lib/python3.6/dist-packages (from boto3>=1.9.0->kubeflow-fairing) (0.10.0)\n",
      "Requirement already satisfied: requests-oauthlib in /usr/local/lib/python3.6/dist-packages (from kubernetes==10.0.1->kubeflow-fairing) (1.3.0)\n",
      "Requirement already satisfied: pyyaml>=3.12 in /usr/local/lib/python3.6/dist-packages (from kubernetes==10.0.1->kubeflow-fairing) (5.3.1)\n",
      "Requirement already satisfied: terminado>=0.8.1 in /usr/local/lib/python3.6/dist-packages (from notebook>=5.6.0->kubeflow-fairing) (0.8.2)\n",
      "Requirement already satisfied: ipykernel in /usr/local/lib/python3.6/dist-packages (from notebook>=5.6.0->kubeflow-fairing) (5.1.1)\n",
      "Requirement already satisfied: Send2Trash in /usr/local/lib/python3.6/dist-packages (from notebook>=5.6.0->kubeflow-fairing) (1.5.0)\n",
      "Requirement already satisfied: prometheus-client in /usr/local/lib/python3.6/dist-packages (from notebook>=5.6.0->kubeflow-fairing) (0.7.1)\n",
      "Requirement already satisfied: ipython-genutils in /usr/local/lib/python3.6/dist-packages (from notebook>=5.6.0->kubeflow-fairing) (0.2.0)\n",
      "Requirement already satisfied: jupyter-client>=5.3.1 in /usr/local/lib/python3.6/dist-packages (from notebook>=5.6.0->kubeflow-fairing) (5.3.1)\n",
      "Requirement already satisfied: pyzmq>=17 in /usr/local/lib/python3.6/dist-packages (from notebook>=5.6.0->kubeflow-fairing) (18.0.2)\n",
      "Requirement already satisfied: ibm-cos-sdk-s3transfer==2.7.0 in /usr/local/lib/python3.6/dist-packages (from ibm-cos-sdk>=2.6.0->kubeflow-fairing) (2.7.0)\n",
      "Requirement already satisfied: ibm-cos-sdk-core==2.7.0 in /usr/local/lib/python3.6/dist-packages (from ibm-cos-sdk>=2.6.0->kubeflow-fairing) (2.7.0)\n",
      "Requirement already satisfied: azure-storage-blob<=2.1.0,>=1.3.0 in /usr/local/lib/python3.6/dist-packages (from kfserving>=0.3.0.2->kubeflow-fairing) (2.1.0)\n",
      "Requirement already satisfied: adal>=1.2.2 in /usr/local/lib/python3.6/dist-packages (from kfserving>=0.3.0.2->kubeflow-fairing) (1.2.4)\n",
      "Requirement already satisfied: minio>=4.0.9 in /usr/local/lib/python3.6/dist-packages (from kfserving>=0.3.0.2->kubeflow-fairing) (6.0.0)\n",
      "Requirement already satisfied: argparse>=1.4.0 in /usr/local/lib/python3.6/dist-packages (from kfserving>=0.3.0.2->kubeflow-fairing) (1.4.0)\n",
      "Requirement already satisfied: msrestazure<2.0.0,>=0.4.32 in /usr/local/lib/python3.6/dist-packages (from azure-mgmt-storage>=9.0.0->kubeflow-fairing) (0.6.4)\n",
      "Requirement already satisfied: msrest>=0.5.0 in /usr/local/lib/python3.6/dist-packages (from azure-mgmt-storage>=9.0.0->kubeflow-fairing) (0.6.18)\n",
      "Requirement already satisfied: protobuf>=3.12.0 in /usr/local/lib/python3.6/dist-packages (from google-api-core<2dev,>=1.18.0->google-api-python-client>=1.7.8->kubeflow-fairing) (3.13.0)\n",
      "Requirement already satisfied: googleapis-common-protos<2.0dev,>=1.6.0 in /usr/local/lib/python3.6/dist-packages (from google-api-core<2dev,>=1.18.0->google-api-python-client>=1.7.8->kubeflow-fairing) (1.52.0)\n",
      "Requirement already satisfied: pytz in /usr/local/lib/python3.6/dist-packages (from google-api-core<2dev,>=1.18.0->google-api-python-client>=1.7.8->kubeflow-fairing) (2020.1)\n",
      "Requirement already satisfied: MarkupSafe>=0.23 in /usr/local/lib/python3.6/dist-packages (from jinja2>=2.4->nbconvert>=5.6.1->kubeflow-fairing) (1.1.1)\n",
      "Requirement already satisfied: webencodings in /usr/local/lib/python3.6/dist-packages (from bleach->nbconvert>=5.6.1->kubeflow-fairing) (0.5.1)\n",
      "Requirement already satisfied: decorator in /usr/local/lib/python3.6/dist-packages (from traitlets>=4.2->nbconvert>=5.6.1->kubeflow-fairing) (4.4.0)\n",
      "Requirement already satisfied: jsonschema!=2.5.0,>=2.4 in /usr/local/lib/python3.6/dist-packages (from nbformat>=4.4->nbconvert>=5.6.1->kubeflow-fairing) (3.0.1)\n",
      "Requirement already satisfied: cryptography in /usr/lib/python3/dist-packages (from azure-storage-common~=2.1->azure-storage-file>=2.1.0->kubeflow-fairing) (2.1.4)\n",
      "Requirement already satisfied: google-crc32c<0.2dev,>=0.1.0; python_version >= \"3.5\" in /usr/local/lib/python3.6/dist-packages (from google-resumable-media<2.0dev,>=0.6.0->google-cloud-storage>=1.13.2->kubeflow-fairing) (0.1.0)\n",
      "Requirement already satisfied: docutils<0.16,>=0.10 in /usr/local/lib/python3.6/dist-packages (from botocore<1.18.0,>=1.17.43->boto3>=1.9.0->kubeflow-fairing) (0.15.2)\n",
      "Requirement already satisfied: oauthlib>=3.0.0 in /usr/local/lib/python3.6/dist-packages (from requests-oauthlib->kubernetes==10.0.1->kubeflow-fairing) (3.1.0)\n",
      "Requirement already satisfied: ptyprocess; os_name != \"nt\" in /usr/local/lib/python3.6/dist-packages (from terminado>=0.8.1->notebook>=5.6.0->kubeflow-fairing) (0.6.0)\n",
      "Requirement already satisfied: ipython>=5.0.0 in /usr/local/lib/python3.6/dist-packages (from ipykernel->notebook>=5.6.0->kubeflow-fairing) (7.6.1)\n",
      "Requirement already satisfied: PyJWT>=1.0.0 in /usr/local/lib/python3.6/dist-packages (from adal>=1.2.2->kfserving>=0.3.0.2->kubeflow-fairing) (1.7.1)\n",
      "Requirement already satisfied: configparser in /usr/local/lib/python3.6/dist-packages (from minio>=4.0.9->kfserving>=0.3.0.2->kubeflow-fairing) (5.0.0)\n",
      "Requirement already satisfied: isodate>=0.6.0 in /usr/local/lib/python3.6/dist-packages (from msrest>=0.5.0->azure-mgmt-storage>=9.0.0->kubeflow-fairing) (0.6.0)\n",
      "Requirement already satisfied: attrs>=17.4.0 in /usr/local/lib/python3.6/dist-packages (from jsonschema!=2.5.0,>=2.4->nbformat>=4.4->nbconvert>=5.6.1->kubeflow-fairing) (19.1.0)\n",
      "Requirement already satisfied: pyrsistent>=0.14.0 in /usr/local/lib/python3.6/dist-packages (from jsonschema!=2.5.0,>=2.4->nbformat>=4.4->nbconvert>=5.6.1->kubeflow-fairing) (0.15.3)\n",
      "Requirement already satisfied: cffi>=1.0.0 in /usr/local/lib/python3.6/dist-packages (from google-crc32c<0.2dev,>=0.1.0; python_version >= \"3.5\"->google-resumable-media<2.0dev,>=0.6.0->google-cloud-storage>=1.13.2->kubeflow-fairing) (1.14.1)\n",
      "Requirement already satisfied: pexpect; sys_platform != \"win32\" in /usr/local/lib/python3.6/dist-packages (from ipython>=5.0.0->ipykernel->notebook>=5.6.0->kubeflow-fairing) (4.7.0)\n",
      "Requirement already satisfied: backcall in /usr/local/lib/python3.6/dist-packages (from ipython>=5.0.0->ipykernel->notebook>=5.6.0->kubeflow-fairing) (0.1.0)\n",
      "Requirement already satisfied: pickleshare in /usr/local/lib/python3.6/dist-packages (from ipython>=5.0.0->ipykernel->notebook>=5.6.0->kubeflow-fairing) (0.7.5)\n",
      "Requirement already satisfied: prompt-toolkit<2.1.0,>=2.0.0 in /usr/local/lib/python3.6/dist-packages (from ipython>=5.0.0->ipykernel->notebook>=5.6.0->kubeflow-fairing) (2.0.9)\n",
      "Requirement already satisfied: jedi>=0.10 in /usr/local/lib/python3.6/dist-packages (from ipython>=5.0.0->ipykernel->notebook>=5.6.0->kubeflow-fairing) (0.14.1)\n",
      "Requirement already satisfied: pycparser in /usr/local/lib/python3.6/dist-packages (from cffi>=1.0.0->google-crc32c<0.2dev,>=0.1.0; python_version >= \"3.5\"->google-resumable-media<2.0dev,>=0.6.0->google-cloud-storage>=1.13.2->kubeflow-fairing) (2.20)\n",
      "Requirement already satisfied: wcwidth in /usr/local/lib/python3.6/dist-packages (from prompt-toolkit<2.1.0,>=2.0.0->ipython>=5.0.0->ipykernel->notebook>=5.6.0->kubeflow-fairing) (0.1.7)\n",
      "Requirement already satisfied: parso>=0.5.0 in /usr/local/lib/python3.6/dist-packages (from jedi>=0.10->ipython>=5.0.0->ipykernel->notebook>=5.6.0->kubeflow-fairing) (0.5.1)\n"
     ]
    }
   ],
   "source": [
    "!pip install --user kubeflow-fairing"
   ]
  },
  {
   "cell_type": "code",
   "execution_count": 4,
   "metadata": {},
   "outputs": [
    {
     "name": "stdout",
     "output_type": "stream",
     "text": [
      "NAME                     READY   STATUS    RESTARTS   AGE\n",
      "kubeflow-handson-lab-0   2/2     Running   0          5h57m\n"
     ]
    }
   ],
   "source": [
    "!kubectl get pods -n admin"
   ]
  },
  {
   "cell_type": "code",
   "execution_count": 6,
   "metadata": {},
   "outputs": [
    {
     "name": "stdout",
     "output_type": "stream",
     "text": [
      "NAME             SECRETS   AGE\n",
      "default          1         5h59m\n",
      "default-editor   1         5h59m\n",
      "default-viewer   1         5h59m\n"
     ]
    }
   ],
   "source": [
    "!kubectl get sa -n admin"
   ]
  },
  {
   "cell_type": "code",
   "execution_count": 11,
   "metadata": {},
   "outputs": [
    {
     "name": "stderr",
     "output_type": "stream",
     "text": [
      "[I 200815 10:43:17 config:134] Using preprocessor: <kubeflow.fairing.preprocessors.function.FunctionPreProcessor object at 0x7f88602aebe0>\n",
      "[I 200815 10:43:17 config:136] Using builder: <kubeflow.fairing.builders.append.append.AppendBuilder object at 0x7f88602aeb00>\n",
      "[I 200815 10:43:17 config:138] Using deployer: <kubeflow.fairing.deployers.job.job.Job object at 0x7f883ae65b00>\n",
      "[W 200815 10:43:17 append:50] Building image using Append builder...\n",
      "[I 200815 10:43:17 base:107] Creating docker context: /tmp/fairing_context_tj8w734i\n",
      "[W 200815 10:43:17 base:94] /usr/local/lib/python3.6/dist-packages/kubeflow/fairing/__init__.py already exists in Fairing context, skipping...\n",
      "[I 200815 10:43:17 docker_creds_:234] Loading Docker credentials for repository 'gcr.io/kubeflow-images-public/tensorflow-2.0.0a0-notebook-cpu:v1.0.0'\n"
     ]
    },
    {
     "name": "stdout",
     "output_type": "stream",
     "text": [
      "local train()\n",
      "remote train()\n"
     ]
    },
    {
     "name": "stderr",
     "output_type": "stream",
     "text": [
      "[W 200815 10:43:19 append:54] Image successfully built in 1.4446561330041732s.\n",
      "[W 200815 10:43:19 append:94] Pushing image index.docker.io/insoopark/fairing-job:FABE3F5E...\n",
      "[I 200815 10:43:19 docker_creds_:234] Loading Docker credentials for repository 'index.docker.io/insoopark/fairing-job:FABE3F5E'\n",
      "[W 200815 10:43:20 append:81] Uploading index.docker.io/insoopark/fairing-job:FABE3F5E\n",
      "[I 200815 10:43:24 docker_session_:284] Layer sha256:742075590a3360358fd49a102859dacc39ac7f18a875af01343f6fd12a4936fe pushed.\n",
      "[I 200815 10:43:24 docker_session_:284] Layer sha256:fdd814633002235bfc7dedd9c59dce949d682003bb0facb4a6d33a42b89b28f3 pushed.\n",
      "[I 200815 10:43:24 docker_session_:284] Layer sha256:9f0987d255ad535dcddf1e1bc52d9ee5dd405f9942ee3884efdb66a2500e49b1 pushed.\n",
      "[I 200815 10:43:24 docker_session_:284] Layer sha256:9c2bbe6dd8e506c43daf98fe52acbc08fa625b8497a0d4f28e0d4a03d60c92cf pushed.\n",
      "[I 200815 10:43:24 docker_session_:284] Layer sha256:e295c9ee999db1548a8f192f1e9fccec142d09fccff66ffdcf9d0d9c11bff37c pushed.\n",
      "[I 200815 10:43:25 docker_session_:284] Layer sha256:34b0cb88c866b6120d5b903369b54f804bee85acf6cf622585c19d6026c743b8 pushed.\n",
      "[I 200815 10:43:27 docker_session_:284] Layer sha256:f71de4d1c829e1a5dedd2e8a84d7c66313ebc96184dfeea8e1204a78e2d30742 pushed.\n",
      "[I 200815 10:43:27 docker_session_:284] Layer sha256:a8ec332a324623595fc592916c136ece355e40c19fcf3fed8b16dc8c9d6bdecc pushed.\n",
      "[I 200815 10:43:27 docker_session_:284] Layer sha256:722d840652a07e4fc65cb459e64739ef3968463a0cca607f13505d439d72592f pushed.\n",
      "[I 200815 10:43:29 docker_session_:284] Layer sha256:c230775c7391d395bd90c62f719f50dd16286809490eadc8238639f33a74e8e8 pushed.\n",
      "[I 200815 10:43:30 docker_session_:284] Layer sha256:7427f31876ecb86e8c179a296197c4a25f6b46cc6168714bf37b0a2afc3ae716 pushed.\n",
      "[I 200815 10:43:30 docker_session_:284] Layer sha256:76c3f4a13db2ab67ba3114fa206980a7e6eee514b6a7a7f3c0aabf18bb6db3f5 pushed.\n",
      "[I 200815 10:43:30 docker_session_:284] Layer sha256:23b3b90eb8b147738127971c58e2dfbddbc1ca2a78a3a24382c836a11e7f383a pushed.\n",
      "[I 200815 10:43:31 docker_session_:284] Layer sha256:014a345f3a1a27787559b07790eb285c01b50a17420d8f54b6196bda22272fac pushed.\n",
      "[I 200815 10:43:33 docker_session_:284] Layer sha256:86d83e23d3504417735ae2a36488d8b04d767afaaa4c99c3f3dd2589188f68ae pushed.\n",
      "[I 200815 10:43:33 docker_session_:284] Layer sha256:74dc190b88c4a758d87da1dbe7b57f11b221db4fd67c217ef2f9854b467020c6 pushed.\n",
      "[I 200815 10:43:34 docker_session_:284] Layer sha256:6001e1789921cf851f6fb2e5fe05be70f482fe9c2286f66892fe5a3bc404569c pushed.\n",
      "[I 200815 10:43:35 docker_session_:284] Layer sha256:35c102085707f703de2d9eaad8752d6fe1b8f02b5d2149f1d8357c9cc7fb7d0a pushed.\n",
      "[I 200815 10:43:35 docker_session_:284] Layer sha256:1038b3fcb748c80c56dd18a270596f57e02a8a227f5c552ec2431256308c22a3 pushed.\n",
      "[I 200815 10:43:36 docker_session_:284] Layer sha256:7976f3812b4e842b8d7c02b664c85087f7b4ea7e9ba2602ad0ceeb87ca384e2d pushed.\n",
      "[I 200815 10:43:36 docker_session_:284] Layer sha256:8e829fe70a46e3ac4334823560e98b257234c23629f19f05460e21a453091e6d pushed.\n",
      "[I 200815 10:43:37 docker_session_:284] Layer sha256:d4150603364983cf1f64afc8a0d695419a297b1e172b4e90875446c35156c2ee pushed.\n",
      "[I 200815 10:43:37 docker_session_:284] Layer sha256:6729a8043eccf8e3ce663bd20664032e9dc55e5a591e75c05392bb6817f0c2d8 pushed.\n",
      "[I 200815 10:43:38 docker_session_:284] Layer sha256:3c12ab35a21ff3cd56dc182b846487ee4c3ff08d409b10cbf9f04c1aa0d1dc1c pushed.\n",
      "[I 200815 10:43:39 docker_session_:284] Layer sha256:5f6bf372421af8346c812a74212dcb6146301d69995746e13291c6e3b379b6e7 pushed.\n",
      "[I 200815 10:43:40 docker_session_:284] Layer sha256:aca5a1a0e175d045b1eddb8732e1ac75c936637a11024555ac501cd6336e262f pushed.\n",
      "[I 200815 10:43:42 docker_session_:284] Layer sha256:355772b2c150133b8c38f403ffe425b580ef343397a6515bb57f8d9e416def2d pushed.\n",
      "[I 200815 10:43:43 docker_session_:284] Layer sha256:bfa2ebf0edb706060cf41c6111b8c0f9e256f81dc5df725010cdfb71d2620a2b pushed.\n",
      "[I 200815 10:43:43 docker_session_:284] Layer sha256:edd79b6ab9e6a2a2c6f3b2fe2b9658055cc2c634335133d4115d0cd9c07757c0 pushed.\n",
      "[I 200815 10:43:44 docker_session_:284] Layer sha256:70638d1647ba9b2ac068d6ce5606f3b22126f0e546b99b4399edb65480045eb6 pushed.\n",
      "[I 200815 10:43:46 docker_session_:284] Layer sha256:0b9c0342e2720455ce6579ed759f571ba98db804adbb6f36cc1de5a3f849ef23 pushed.\n",
      "[I 200815 10:43:46 docker_session_:284] Layer sha256:251f5509d51d9e4119d4ffb70d4820f8e2d7dc72ad15df3ebd7cd755539e40fd pushed.\n",
      "[I 200815 10:43:47 docker_session_:284] Layer sha256:23cc786cbfdea5568843be9a6dcf77070f4aa066ced636d448d4443050894d35 pushed.\n",
      "[I 200815 10:43:47 docker_session_:284] Layer sha256:754774d50df94af70f7c8b379c7f8d34a8dff10425ee352d154a6aa46cef2411 pushed.\n",
      "[I 200815 10:43:48 docker_session_:284] Layer sha256:288f90098013e811a05f70ac084fb8acb2530a23598a13dd7bec87ec896e0072 pushed.\n",
      "[I 200815 10:43:49 docker_session_:284] Layer sha256:bbcf954628f762b606b09280b986a1183515204c2c2d76217e4ff9b24f72d424 pushed.\n",
      "[I 200815 10:43:53 docker_session_:284] Layer sha256:6ab5d070d8c962335646d0b5e64adab91a11defadd05d123666cd9186f44adab pushed.\n",
      "[I 200815 10:43:58 docker_session_:284] Layer sha256:e9c438172f6d9ea0769d1bee2f7cd56ae5dbd6e1b294c05ca1ba925b55f5a42d pushed.\n",
      "[I 200815 10:44:00 docker_session_:284] Layer sha256:cb8fc5f6bbd238a47fa619cf50a5a79cb2000de57f56bba6567854f598533ace pushed.\n",
      "[I 200815 10:44:00 docker_session_:334] Finished upload of: index.docker.io/insoopark/fairing-job:FABE3F5E\n",
      "[W 200815 10:44:00 append:99] Pushed image index.docker.io/insoopark/fairing-job:FABE3F5E in 41.90842618800525s.\n",
      "[W 200815 10:44:00 job:101] The job fairing-job-tqclw launched.\n",
      "[W 200815 10:44:01 manager:298] Waiting for fairing-job-tqclw-8cgvs to start...\n",
      "[W 200815 10:44:01 manager:298] Waiting for fairing-job-tqclw-8cgvs to start...\n",
      "[W 200815 10:44:01 manager:298] Waiting for fairing-job-tqclw-8cgvs to start...\n",
      "[I 200815 10:46:31 manager:304] Pod started running True\n"
     ]
    },
    {
     "name": "stdout",
     "output_type": "stream",
     "text": [
      "2020-08-15 10:46:32.729436: I tensorflow/core/platform/cpu_feature_guard.cc:142] Your CPU supports instructions that this TensorFlow binary was not compiled to use: AVX2 AVX512F FMA\n",
      "2020-08-15 10:46:32.736624: I tensorflow/core/platform/profile_utils/cpu_utils.cc:94] CPU Frequency: 2000110000 Hz\n",
      "2020-08-15 10:46:32.737399: I tensorflow/compiler/xla/service/service.cc:168] XLA service 0x44e4160 executing computations on platform Host. Devices:\n",
      "2020-08-15 10:46:32.737440: I tensorflow/compiler/xla/service/service.cc:175]   StreamExecutor device (0): Host, Default Version\n",
      "fairing-job-tqclw-8cgvs\n"
     ]
    },
    {
     "name": "stderr",
     "output_type": "stream",
     "text": [
      "[W 200815 10:46:33 job:173] Cleaning up job fairing-job-tqclw...\n"
     ]
    }
   ],
   "source": [
    "import os\n",
    "import tensorflow as tf\n",
    "\n",
    "from kubeflow import fairing\n",
    "\n",
    "# DOCKER_REGISTRY = 'kubeflow-registry.default.svc.cluster.local:30000'\n",
    "DOCKER_REGISTRY = 'index.docker.io/insoopark'\n",
    "fairing.config.set_builder(\n",
    "    'append',\n",
    "    base_image='gcr.io/kubeflow-images-public/tensorflow-2.0.0a0-notebook-cpu:v1.0.0', # brightfly/kubeflow-jupyter-lab:tf2.0-cpu',\n",
    "    registry=DOCKER_REGISTRY,\n",
    "    push=True)\n",
    "fairing.config.set_deployer('job',\n",
    "                            namespace='admin')\n",
    "\n",
    "def train():\n",
    "    tf.print(tf.constant(os.environ['HOSTNAME']))\n",
    "\n",
    "if __name__ == '__main__':\n",
    "    print('local train()')\n",
    "    train()\n",
    "    print('remote train()')\n",
    "    remote_train = fairing.config.fn(train)\n",
    "    remote_train()"
   ]
  },
  {
   "cell_type": "code",
   "execution_count": 6,
   "metadata": {},
   "outputs": [
    {
     "name": "stdout",
     "output_type": "stream",
     "text": [
      "NAME                     READY   STATUS    RESTARTS   AGE\n",
      "kubeflow-handson-lab-0   2/2     Running   0          6h23m\n"
     ]
    }
   ],
   "source": [
    "!kubectl get pods -n admin"
   ]
  }
 ],
 "metadata": {
  "kernelspec": {
   "display_name": "Python 3",
   "language": "python",
   "name": "python3"
  },
  "language_info": {
   "codemirror_mode": {
    "name": "ipython",
    "version": 3
   },
   "file_extension": ".py",
   "mimetype": "text/x-python",
   "name": "python",
   "nbconvert_exporter": "python",
   "pygments_lexer": "ipython3",
   "version": "3.6.8"
  }
 },
 "nbformat": 4,
 "nbformat_minor": 4
}
